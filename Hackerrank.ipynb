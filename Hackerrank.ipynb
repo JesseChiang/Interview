{
 "cells": [
  {
   "cell_type": "code",
   "execution_count": null,
   "id": "9c1c94dc-043a-425a-9b8c-dca129d85b94",
   "metadata": {},
   "outputs": [],
   "source": []
  },
  {
   "cell_type": "markdown",
   "id": "49659d53",
   "metadata": {},
   "source": [
    "1  https://www.hackerrank.com/test/53061ld72md\n",
    "\n",
    "2  https://www.hackerrank.com/test/cm44ij7qp1r\n",
    "\n",
    "3  https://www.hackerrank.com/test/8m7477l1l9k\n",
    "\n",
    "4  https://www.hackerrank.com/test/1jarho4sj5p\n",
    "\n",
    "5  https://www.hackerrank.com/test/9f30b66mkph\n",
    "\n",
    "6  https://www.hackerrank.com/test/9a0hqtql6iq\n",
    "\n",
    "7  https://www.hackerrank.com/test/b2plino182n\n",
    "\n",
    "8  https://www.hackerrank.com/test/b7s43046d3j\n",
    "\n",
    "9  https://www.hackerrank.com/test/82clhots7tk\n",
    "\n",
    "10 https://www.hackerrank.com/test/fcrgsi1aenm\n",
    "\n",
    "11? https://www.hackerrank.com/test/fcrgsi1aenm\n",
    "\n",
    "12 https://www.hackerrank.com/test/c5b5dmb28rh"
   ]
  },
  {
   "cell_type": "code",
   "execution_count": 2,
   "id": "55e516d5",
   "metadata": {},
   "outputs": [],
   "source": [
    "import cvxpy as cp"
   ]
  },
  {
   "cell_type": "code",
   "execution_count": 4,
   "id": "b282d6c7",
   "metadata": {},
   "outputs": [
    {
     "name": "stdout",
     "output_type": "stream",
     "text": [
      "\n",
      "The optimal value is 7.005909828287486\n",
      "The optimal x is\n",
      "[ 0.17492418 -0.38102551  0.34732251  0.0173098  -0.0845784  -0.08134019\n",
      "  0.293119    0.27019762  0.17493179 -0.23953449  0.64097935 -0.41633637\n",
      "  0.12799688  0.1063942  -0.32158411]\n",
      "The norm of the residual is  2.6468679280023557\n"
     ]
    }
   ],
   "source": [
    "import cvxpy as cp\n",
    "import numpy as np\n",
    "\n",
    "# Generate data.\n",
    "m = 20\n",
    "n = 15\n",
    "np.random.seed(1)\n",
    "A = np.random.randn(m, n)\n",
    "b = np.random.randn(m)\n",
    "\n",
    "# Define and solve the CVXPY problem.\n",
    "x = cp.Variable(n)\n",
    "cost = cp.sum_squares(A @ x - b)\n",
    "prob = cp.Problem(cp.Minimize(cost))\n",
    "prob.solve()\n",
    "\n",
    "# Print result.\n",
    "print(\"\\nThe optimal value is\", prob.value)\n",
    "print(\"The optimal x is\")\n",
    "print(x.value)\n",
    "print(\"The norm of the residual is \", cp.norm(A @ x - b, p=2).value)"
   ]
  },
  {
   "cell_type": "code",
   "execution_count": null,
   "id": "8fcc72ec",
   "metadata": {},
   "outputs": [],
   "source": []
  }
 ],
 "metadata": {
  "kernelspec": {
   "display_name": "columbia",
   "language": "python",
   "name": "columbia"
  },
  "language_info": {
   "codemirror_mode": {
    "name": "ipython",
    "version": 3
   },
   "file_extension": ".py",
   "mimetype": "text/x-python",
   "name": "python",
   "nbconvert_exporter": "python",
   "pygments_lexer": "ipython3",
   "version": "3.8.11"
  },
  "latex_envs": {
   "LaTeX_envs_menu_present": true,
   "autoclose": true,
   "autocomplete": true,
   "bibliofile": "biblio.bib",
   "cite_by": "apalike",
   "current_citInitial": 1,
   "eqLabelWithNumbers": true,
   "eqNumInitial": 1,
   "hotkeys": {
    "equation": "Ctrl-E",
    "itemize": "Ctrl-I"
   },
   "labels_anchors": false,
   "latex_user_defs": false,
   "report_style_numbering": false,
   "user_envs_cfg": false
  }
 },
 "nbformat": 4,
 "nbformat_minor": 5
}
