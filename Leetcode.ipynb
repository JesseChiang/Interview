{
 "cells": [
  {
   "cell_type": "code",
   "execution_count": 35,
   "id": "91f68db3",
   "metadata": {
    "tags": []
   },
   "outputs": [],
   "source": [
    "def successGenerator(desc: str) -> str:\n",
    "    sentences = desc.split('\\n')\n",
    "    words1 = sentences[1].split(' ')\n",
    "    words2 = sentences[2].split(' ')\n",
    "    time = words1[1]\n",
    "    time_perc = words1[5]\n",
    "    space = words2[2]\n",
    "    space_perc = words2[6]\n",
    "    problem = desc.rstrip().rstrip('.')[(desc.rfind('submissions for',2)+16)::]\n",
    "    template = f\"\"\"<div class=\"alert alert-block alert-success\"><b><font size=4>Success</font></b><br><font color=\"b\">Runtime: <font size=4>{time} ms</font>, faster than <font size=4>{time_perc}</font> of Python online submissions for {problem}.<br>Memory Usage: <font size=4>{space} MB</font>, less than <font size=4>{space_perc}</font> of Python online submissions for {problem}.</font></div>\"\"\"\n",
    "    return template"
   ]
  },
  {
   "cell_type": "code",
   "execution_count": 36,
   "id": "3fa9a89a",
   "metadata": {
    "tags": []
   },
   "outputs": [
    {
     "data": {
      "text/plain": [
       "'<div class=\"alert alert-block alert-success\"><b><font size=4>Success</font></b><br><font color=\"b\">Runtime: <font size=4>24 ms</font>, faster than <font size=4>56.82%</font> of Python online submissions for Game of Life.<br>Memory Usage: <font size=4>13.5 MB</font>, less than <font size=4>42.68%</font> of Python online submissions for Game of Life.</font></div>'"
      ]
     },
     "execution_count": 36,
     "metadata": {},
     "output_type": "execute_result"
    }
   ],
   "source": [
    "desc = \"\"\"\n",
    "Runtime: 24 ms, faster than 56.82% of Python online submissions for Game of Life.\n",
    "Memory Usage: 13.5 MB, less than 42.68% of Python online submissions for Game of Life.\n",
    "\"\"\"\n",
    "\n",
    "successGenerator(desc)"
   ]
  },
  {
   "cell_type": "markdown",
   "id": "def8ea74",
   "metadata": {},
   "source": [
    "# Data Structure"
   ]
  },
  {
   "cell_type": "markdown",
   "id": "89208497",
   "metadata": {},
   "source": [
    "## Heap"
   ]
  },
  {
   "cell_type": "code",
   "execution_count": 20,
   "id": "92583075",
   "metadata": {},
   "outputs": [],
   "source": [
    "class Heap:\n",
    "    def __init__(self, comparator=None):\n",
    "        self._arr = [0]\n",
    "        self._size = 0\n",
    "        self.comparator = comparator if comparator else self.__default_comparator\n",
    "        \n",
    "        \n",
    "    def __repr__(self):\n",
    "        return f'{self.__class__.__name__}: {[self._arr[_] for _ in range(1,self._size+1)]}'\n",
    "        \n",
    "        \n",
    "    def __default_comparator(self, a, b) -> bool: # by default it's a min heap\n",
    "        return a<b        \n",
    "\n",
    "    \n",
    "    def __percolate_up(self, idx):\n",
    "        temp = self._arr[idx] \n",
    "        while (idx>1) and self.comparator(temp, self._arr[idx//2]):\n",
    "            self._arr[idx] = self._arr[idx//2]\n",
    "            idx //= 2\n",
    "        self._arr[idx] = temp \n",
    "        \n",
    "        \n",
    "    def __percolate_down(self, idx):\n",
    "        temp = self._arr[idx]\n",
    "        while (idx*2 <= self._size):\n",
    "            child = idx*2\n",
    "            if (child!=self._size) and self.comparator(self._arr[child+1],self._arr[child]):\n",
    "                child += 1\n",
    "            if self.comparator(self._arr[child],temp):\n",
    "                self._arr[idx] = self._arr[child]\n",
    "            else:\n",
    "                break\n",
    "            idx = child\n",
    "        self._arr[idx] = temp\n",
    "        \n",
    "    \n",
    "    def insert(self, element):\n",
    "        self._arr.append(element)\n",
    "        self._size += 1\n",
    "        self.__percolate_up(self._size)\n",
    "        \n",
    "        \n",
    "    def delete(self):\n",
    "        if self._size == 0:\n",
    "            return None\n",
    "        \n",
    "        data = self._arr[1]\n",
    "        self._size -= 1\n",
    "        if self._size:\n",
    "            self._arr[1] = self._arr[self._size+1]\n",
    "            self.__percolate_down(1)\n",
    "        return data\n",
    "    \n",
    "    def build(self, arr:list):\n",
    "        self._arr = [0]+arr\n",
    "        self._size = len(arr)\n",
    "        for _ in range(self._size//2, 0, -1):\n",
    "            self.__percolate_down(_)"
   ]
  },
  {
   "cell_type": "code",
   "execution_count": 23,
   "id": "08324ec7",
   "metadata": {},
   "outputs": [
    {
     "name": "stdout",
     "output_type": "stream",
     "text": [
      "68\n"
     ]
    },
    {
     "data": {
      "text/plain": [
       "Heap: [65, 32, 19, 26, 31, 13, 16, 24, 21, 14]"
      ]
     },
     "execution_count": 23,
     "metadata": {},
     "output_type": "execute_result"
    }
   ],
   "source": [
    "def max_comparator(a,b):\n",
    "    return a>b\n",
    "\n",
    "heap = Heap(max_comparator)\n",
    "\n",
    "heap.build([13,21,16,24,31,19,68,65,26,32])\n",
    "\n",
    "heap.insert(14)\n",
    "print(heap.delete())\n",
    "heap"
   ]
  },
  {
   "cell_type": "code",
   "execution_count": 14,
   "id": "8d617042",
   "metadata": {},
   "outputs": [
    {
     "data": {
      "text/plain": [
       "True"
      ]
     },
     "execution_count": 14,
     "metadata": {},
     "output_type": "execute_result"
    }
   ],
   "source": [
    "def comparator(i,j):\n",
    "    if i>j:\n",
    "        return True\n",
    "    return False\n",
    "\n",
    "def compare(comparator, i, j):\n",
    "    return comparator(i,j)\n",
    "\n",
    "compare=comparator\n",
    "compare(2,1)"
   ]
  },
  {
   "cell_type": "code",
   "execution_count": null,
   "id": "5b641dd9",
   "metadata": {},
   "outputs": [],
   "source": []
  },
  {
   "cell_type": "markdown",
   "id": "08b6bc4c",
   "metadata": {},
   "source": [
    "# DP"
   ]
  },
  {
   "cell_type": "code",
   "execution_count": 39,
   "id": "013afe5a",
   "metadata": {},
   "outputs": [],
   "source": [
    "arr = [1,2,-3,4,5,-6,7]\n",
    "\n",
    "\n",
    "def sol(arr, m, n):\n",
    "    a = [[0 for _ in range(n)] for __ in range(n+1)]\n",
    "    for i in range(n):\n",
    "        temp = 0\n",
    "        for j in range(i, n):\n",
    "            if i == j:\n",
    "                a[i][j] = arr[j]\n",
    "                temp = max(0, arr[i])\n",
    "                continue\n",
    "            temp = (temp+arr[j])*(arr[j]>=0)\n",
    "            a[i][j] = max(a[i][j-1], temp)\n",
    "    res = 0\n",
    "    for j in range(n):\n",
    "        res = max(res, dp(a, 0, j, m, n))\n",
    "    return res\n",
    "\n",
    "def dp(a, i, j, m, n):\n",
    "    if a[j+1][i] and a[j+1][i].get(m,None):\n",
    "        return a[j+1][i].get(m)\n",
    "    \n",
    "    res = 0\n",
    "    \n",
    "    if n-j<m:\n",
    "        return float('-inf')\n",
    "    \n",
    "    if j == n-1:\n",
    "        res = a[i][j]\n",
    "    else: \n",
    "        for k in range(j+1, n):\n",
    "            res = max(a[i][j]+dp(a, j+1, j+1, m-1, n), res)\n",
    "        \n",
    "    if a[j+1][i]:\n",
    "        a[j+1][i][m] = res\n",
    "    else:\n",
    "        a[j+1][i] = {m: res}\n",
    "    print(i,j)\n",
    "    return res"
   ]
  },
  {
   "cell_type": "code",
   "execution_count": 40,
   "id": "9a312dca",
   "metadata": {},
   "outputs": [],
   "source": [
    "def f():\n",
    "    if 1 and a:\n",
    "        print(1)"
   ]
  },
  {
   "cell_type": "code",
   "execution_count": 41,
   "id": "a62ee91b",
   "metadata": {},
   "outputs": [],
   "source": [
    "import random\n",
    "arr = [random.randint(1,50)-random.randint(1,50) for i in range(50)]\n",
    "n = len(arr)\n",
    "m = random.randint(2,n)"
   ]
  },
  {
   "cell_type": "code",
   "execution_count": 104,
   "id": "456086d9",
   "metadata": {},
   "outputs": [],
   "source": [
    "def dp(a, b):\n",
    "    x = len(a)\n",
    "    y = len(b)\n",
    "    \n",
    "    s = [[0 for _ in range(y+1)] for __ in range(x+1)]\n",
    "    for i in range (x):\n",
    "        for j in range(y):\n",
    "            \n",
    "            s[i+1][j+1] = max(s[i+1][j], s[i][j+1])*(a[i]!=b[j]) + (a[i]==b[j])*(s[i][j]+1)\n",
    "    return s[i+1][j+1]"
   ]
  },
  {
   "cell_type": "code",
   "execution_count": 105,
   "id": "1a1ee027",
   "metadata": {},
   "outputs": [
    {
     "data": {
      "text/plain": [
       "3"
      ]
     },
     "execution_count": 105,
     "metadata": {},
     "output_type": "execute_result"
    }
   ],
   "source": [
    "dp('bcaedk','abcde')"
   ]
  },
  {
   "cell_type": "markdown",
   "id": "07d90480",
   "metadata": {},
   "source": [
    "# DE Shaw"
   ]
  },
  {
   "cell_type": "markdown",
   "id": "b0d0e431",
   "metadata": {},
   "source": [
    "## 943. <a href ='https://leetcode.com/problems/find-the-shortest-superstring/'>Find the Shortest Superstring</a>"
   ]
  },
  {
   "cell_type": "markdown",
   "id": "59859fc0",
   "metadata": {},
   "source": [
    "<div class=\"content__u3I1 question-content__JfgR\"><div><p>Given an array of strings <code>words</code>, return <em>the smallest string that contains each string in</em> <code>words</code> <em>as a substring</em>. If there are multiple valid strings of the smallest length, return <strong>any of them</strong>.</p>\n",
    "\n",
    "<p>You may assume that no string in <code>words</code> is a substring of another string in <code>words</code>.</p>\n",
    "\n",
    "<p>&nbsp;</p>\n",
    "<p><strong>Example 1:</strong></p>\n",
    "\n",
    "<pre><strong>Input:</strong> words = [\"alex\",\"loves\",\"leetcode\"]\n",
    "<strong>Output:</strong> \"alexlovesleetcode\"\n",
    "<strong>Explanation:</strong> All permutations of \"alex\",\"loves\",\"leetcode\" would also be accepted.\n",
    "</pre>\n",
    "\n",
    "<p><strong>Example 2:</strong></p>\n",
    "\n",
    "<pre><strong>Input:</strong> words = [\"catg\",\"ctaagt\",\"gcta\",\"ttca\",\"atgcatc\"]\n",
    "<strong>Output:</strong> \"gctaagttcatgcatc\"\n",
    "</pre>\n",
    "\n",
    "<p>&nbsp;</p>\n",
    "<p><strong>Constraints:</strong></p>\n",
    "\n",
    "<ul>\n",
    "\t<li><code>1 &lt;= words.length &lt;= 12</code></li>\n",
    "\t<li><code>1 &lt;= words[i].length &lt;= 20</code></li>\n",
    "\t<li><code>words[i]</code> consists of lowercase English letters.</li>\n",
    "\t<li>All the strings of <code>words</code> are <strong>unique</strong>.</li>\n",
    "</ul>\n",
    "</div></div>"
   ]
  },
  {
   "cell_type": "code",
   "execution_count": 260,
   "id": "5cd3b1f0",
   "metadata": {},
   "outputs": [],
   "source": [
    "def dp(g, s, x, b, n, idx):\n",
    "    # starting point\n",
    "    if x == -1:\n",
    "        res = 0\n",
    "        stp = None\n",
    "        for i in range(n):\n",
    "            \n",
    "            temp_res, temp_stp = dp(g,s,i,b,n,idx)\n",
    "            if temp_res <= res:\n",
    "                res, stp = temp_res, temp_stp\n",
    "        return (res, stp)\n",
    "\n",
    "    if b == (1<<x):\n",
    "        return (0, [x])\n",
    "    if s[x][b-1]:\n",
    "        res, stp = s[x][b-1]\n",
    "        return (res, stp)\n",
    "    \n",
    "    res = 0\n",
    "    stp = None\n",
    "    for i in range(n):\n",
    "        if (i != x) and (b&(1<<i)):\n",
    "            temp_res, temp_stp = dp(g,s,i, b&~(1<<x),n,idx)\n",
    "            temp_res += g[idx[i]][idx[x]]\n",
    "            if  temp_res <= res:\n",
    "                res = temp_res\n",
    "                stp = temp_stp+[x]\n",
    "                \n",
    "    s[x][b-1] = (res, stp)\n",
    "    return (res, stp)\n",
    "\n",
    "def shortestSuperstring(words):\n",
    "    # construct the map\n",
    "    n = len(words)\n",
    "    g = [[0 for _ in range(n)] for __ in range(n)] \n",
    "    \n",
    "    res = 0\n",
    "    mask = 2**n-1\n",
    "    \n",
    "    for i in range(n):\n",
    "        flag = True\n",
    "        l1 = len(words[i])\n",
    "        if not mask&(1<<i):\n",
    "            print(1)\n",
    "            continue\n",
    "        for j in range(n):\n",
    "            if i == j or not mask&(1<<j):\n",
    "                continue\n",
    "            l2 = len(words[j])\n",
    "            cutoff = max(0, l1-l2)\n",
    "            for k in range(0, cutoff):\n",
    "                if words[i][k:k+l2] == words[j]:\n",
    "                    mask &= ~(1<<j)\n",
    "                    break\n",
    "            for k in range(cutoff, l1):\n",
    "                if (words[i][k] == words[j][0]) and (words[i][k:] == words[j][:l1-k]):\n",
    "                    g[i][j] = k-l1 \n",
    "                    if l1-k == l2:\n",
    "                        mask &= ~(1<<j)\n",
    "                    break\n",
    "                    \n",
    "    idx = list()\n",
    "    for i in range(n):\n",
    "        if mask&(1<<i):\n",
    "            idx.append(i) \n",
    "    b = 2**len(idx)-1\n",
    "    \n",
    "    s = [[0 for i in range(b)] for j in range(len(idx))]\n",
    "    \n",
    "    res, stp = dp(g, s, -1, b, len(idx), idx)\n",
    "    \n",
    "    o = words[idx[stp[0]]]\n",
    "    for i in range(1, len(stp)):\n",
    "        o += words[idx[stp[i]]][-g[idx[stp[i-1]]][idx[stp[i]]]:]\n",
    "    \n",
    "    return o"
   ]
  },
  {
   "cell_type": "markdown",
   "id": "35d61046",
   "metadata": {},
   "source": [
    "<div class=\"alert alert-block alert-success\"><b><font size=4>Success</font></b><br><font color=\"b\">Runtime: <font size=4>2023 ms</font>, faster than <font size=4>24.23%</font> of Python online submissions for Find the Shortest Superstring.<br>Memory Usage: <font size=4>19.6 MB</font>, less than <font size=4>55.28%</font> of Python online submissions for Find the Shortest Superstring.</font></div>"
   ]
  },
  {
   "cell_type": "code",
   "execution_count": null,
   "id": "4af16a6e",
   "metadata": {},
   "outputs": [],
   "source": []
  },
  {
   "cell_type": "code",
   "execution_count": 261,
   "id": "af7411fa",
   "metadata": {},
   "outputs": [
    {
     "data": {
      "text/plain": [
       "8"
      ]
     },
     "execution_count": 261,
     "metadata": {},
     "output_type": "execute_result"
    }
   ],
   "source": [
    "[4,3,2,1]+[0]"
   ]
  },
  {
   "cell_type": "code",
   "execution_count": 266,
   "id": "9fed6b7f",
   "metadata": {},
   "outputs": [
    {
     "data": {
      "text/plain": [
       "'gjjhbhjkctaagttcatgcatc'"
      ]
     },
     "execution_count": 266,
     "metadata": {},
     "output_type": "execute_result"
    }
   ],
   "source": [
    "words = [\"catg\",\"ctaagt\",\"gjjhbh\",\"ttca\",'jk',\"atgcatc\"]\n",
    "shortestSuperstring(words)"
   ]
  },
  {
   "cell_type": "code",
   "execution_count": 241,
   "id": "2d3a2076",
   "metadata": {},
   "outputs": [
    {
     "name": "stdout",
     "output_type": "stream",
     "text": [
      "0b10111\n",
      "[0, 1, 2, 4]\n"
     ]
    }
   ],
   "source": [
    "idx = list()\n",
    "mask = 23\n",
    "print(bin(mask))\n",
    "for i in range(5):\n",
    "    if mask&(1<<i):\n",
    "        idx.append(i)\n",
    "print(idx)"
   ]
  },
  {
   "cell_type": "markdown",
   "id": "08080e0b",
   "metadata": {},
   "source": [
    "## 1473. Paint House III"
   ]
  },
  {
   "cell_type": "markdown",
   "id": "3908a4ff",
   "metadata": {},
   "source": [
    "<div class=\"content__u3I1 question-content__JfgR\"><div><p>There is a row of <code>m</code> houses in a small city, each house must be painted with one of the <code>n</code> colors (labeled from <code>1</code> to <code>n</code>), some houses that have been painted last summer should not be painted again.</p>\n",
    "\n",
    "<p>A neighborhood is a maximal group of continuous houses that are painted with the same color.</p>\n",
    "\n",
    "<ul>\n",
    "\t<li>For example: <code>houses = [1,2,2,3,3,2,1,1]</code> contains <code>5</code> neighborhoods <code>[{1}, {2,2}, {3,3}, {2}, {1,1}]</code>.</li>\n",
    "</ul>\n",
    "\n",
    "<p>Given an array <code>houses</code>, an <code>m x n</code> matrix <code>cost</code> and an integer <code><font face=\"monospace\">target</font></code> where:</p>\n",
    "\n",
    "<ul>\n",
    "\t<li><code>houses[i]</code>: is the color of the house <code>i</code>, and <code>0</code> if the house is not painted yet.</li>\n",
    "\t<li><code>cost[i][j]</code>: is the cost of paint the house <code>i</code> with the color <code>j + 1</code>.</li>\n",
    "</ul>\n",
    "\n",
    "<p>Return <em>the minimum cost of painting all the remaining houses in such a way that there are exactly</em> <code>target</code> <em>neighborhoods</em>. If it is not possible, return <code>-1</code>.</p>\n",
    "\n",
    "<p>&nbsp;</p>\n",
    "<p><strong>Example 1:</strong></p>\n",
    "\n",
    "<pre><strong>Input:</strong> houses = [0,0,0,0,0], cost = [[1,10],[10,1],[10,1],[1,10],[5,1]], m = 5, n = 2, target = 3\n",
    "<strong>Output:</strong> 9\n",
    "<strong>Explanation:</strong> Paint houses of this way [1,2,2,1,1]\n",
    "This array contains target = 3 neighborhoods, [{1}, {2,2}, {1,1}].\n",
    "Cost of paint all houses (1 + 1 + 1 + 1 + 5) = 9.\n",
    "</pre>\n",
    "\n",
    "<p><strong>Example 2:</strong></p>\n",
    "\n",
    "<pre><strong>Input:</strong> houses = [0,2,1,2,0], cost = [[1,10],[10,1],[10,1],[1,10],[5,1]], m = 5, n = 2, target = 3\n",
    "<strong>Output:</strong> 11\n",
    "<strong>Explanation:</strong> Some houses are already painted, Paint the houses of this way [2,2,1,2,2]\n",
    "This array contains target = 3 neighborhoods, [{2,2}, {1}, {2,2}]. \n",
    "Cost of paint the first and last house (10 + 1) = 11.\n",
    "</pre>\n",
    "\n",
    "<p><strong>Example 3:</strong></p>\n",
    "\n",
    "<pre><strong>Input:</strong> houses = [0,0,0,0,0], cost = [[1,10],[10,1],[1,10],[10,1],[1,10]], m = 5, n = 2, target = 5\n",
    "<strong>Output:</strong> 5\n",
    "</pre>\n",
    "\n",
    "<p><strong>Example 4:</strong></p>\n",
    "\n",
    "<pre><strong>Input:</strong> houses = [3,1,2,3], cost = [[1,1,1],[1,1,1],[1,1,1],[1,1,1]], m = 4, n = 3, target = 3\n",
    "<strong>Output:</strong> -1\n",
    "<strong>Explanation:</strong> Houses are already painted with a total of 4 neighborhoods [{3},{1},{2},{3}] different of target = 3.\n",
    "</pre>\n",
    "\n",
    "<p>&nbsp;</p>\n",
    "<p><strong>Constraints:</strong></p>\n",
    "\n",
    "<ul>\n",
    "\t<li><code>m == houses.length == cost.length</code></li>\n",
    "\t<li><code>n == cost[i].length</code></li>\n",
    "\t<li><code>1 &lt;= m &lt;= 100</code></li>\n",
    "\t<li><code>1 &lt;= n &lt;= 20</code></li>\n",
    "\t<li><code>1 &lt;= target &lt;= m</code></li>\n",
    "\t<li><code>0 &lt;= houses[i] &lt;= n</code></li>\n",
    "\t<li><code>1 &lt;= cost[i][j] &lt;= 10^4</code></li>\n",
    "</ul>\n",
    "</div></div>"
   ]
  },
  {
   "cell_type": "code",
   "execution_count": 2,
   "id": "0b8e3f3c",
   "metadata": {},
   "outputs": [],
   "source": [
    " def minCost(houses, cost, m: int, n: int, target: int) -> int:\n",
    "        raise NotImplementedError"
   ]
  },
  {
   "cell_type": "markdown",
   "id": "eb9eceff",
   "metadata": {},
   "source": [
    "# Citadel"
   ]
  },
  {
   "cell_type": "markdown",
   "id": "3870f61f",
   "metadata": {
    "tags": [
     "Citadel"
    ]
   },
   "source": [
    " ## 829. Consecutive Numbers Sum"
   ]
  },
  {
   "cell_type": "markdown",
   "id": "32fee871",
   "metadata": {},
   "source": [
    "<div class=\"content__u3I1 question-content__JfgR\"><div><p>Given an integer <code>n</code>, return <em>the number of ways you can write </em><code>n</code><em> as the sum of consecutive positive integers.</em></p>\n",
    "\n",
    "<p>&nbsp;</p>\n",
    "<p><strong>Example 1:</strong></p>\n",
    "\n",
    "<pre><strong>Input:</strong> n = 5\n",
    "<strong>Output:</strong> 2\n",
    "<strong>Explanation:</strong> 5 = 2 + 3\n",
    "</pre>\n",
    "\n",
    "<p><strong>Example 2:</strong></p>\n",
    "\n",
    "<pre><strong>Input:</strong> n = 9\n",
    "<strong>Output:</strong> 3\n",
    "<strong>Explanation:</strong> 9 = 4 + 5 = 2 + 3 + 4\n",
    "</pre>\n",
    "\n",
    "<p><strong>Example 3:</strong></p>\n",
    "\n",
    "<pre><strong>Input:</strong> n = 15\n",
    "<strong>Output:</strong> 4\n",
    "<strong>Explanation:</strong> 15 = 8 + 7 = 4 + 5 + 6 = 1 + 2 + 3 + 4 + 5\n",
    "</pre>\n",
    "\n",
    "<p>&nbsp;</p>\n",
    "<p><strong>Constraints:</strong></p>\n",
    "\n",
    "<ul>\n",
    "\t<li><code>1 &lt;= n &lt;= 10<sup>9</sup></code></li>\n",
    "</ul>\n",
    "</div></div>"
   ]
  },
  {
   "cell_type": "code",
   "execution_count": 25,
   "id": "fbda3f7b",
   "metadata": {},
   "outputs": [],
   "source": [
    "def consecutiveNumbersSum(n: int) -> int:\n",
    "    raise NotImplementedError"
   ]
  },
  {
   "cell_type": "markdown",
   "id": "a6a83112",
   "metadata": {},
   "source": [
    "## 370. Range Addition"
   ]
  },
  {
   "cell_type": "markdown",
   "id": "e0989618",
   "metadata": {},
   "source": [
    "<div class=\"content__u3I1 question-content__JfgR\"><div><p>You are given an integer <code>length</code> and an array <code>updates</code> where <code>updates[i] = [startIdx<sub>i</sub>, endIdx<sub>i</sub>, inc<sub>i</sub>]</code>.</p>\n",
    "\n",
    "<p>You have an array <code>arr</code> of length <code>length</code> with all zeros, and you have some operation to apply on <code>arr</code>. In the <code>i<sup>th</sup></code> operation, you should increment all the elements <code>arr[startIdx<sub>i</sub>], arr[startIdx<sub>i</sub> + 1], ..., arr[endIdx<sub>i</sub>]</code> by <code>inc<sub>i</sub></code>.</p>\n",
    "\n",
    "<p>Return <code>arr</code> <em>after applying all the</em> <code>updates</code>.</p>\n",
    "\n",
    "<p>&nbsp;</p>\n",
    "<p><strong>Example 1:</strong></p>\n",
    "<img alt=\"\" src=\"https://assets.leetcode.com/uploads/2021/03/27/rangeadd-grid.jpg\" style=\"width: 413px; height: 573px;\">\n",
    "<pre><strong>Input:</strong> length = 5, updates = [[1,3,2],[2,4,3],[0,2,-2]]\n",
    "<strong>Output:</strong> [-2,0,3,5,3]\n",
    "</pre>\n",
    "\n",
    "<p><strong>Example 2:</strong></p>\n",
    "\n",
    "<pre><strong>Input:</strong> length = 10, updates = [[2,4,6],[5,6,8],[1,9,-4]]\n",
    "<strong>Output:</strong> [0,-4,2,2,2,4,4,-4,-4,-4]\n",
    "</pre>\n",
    "\n",
    "<p>&nbsp;</p>\n",
    "<p><strong>Constraints:</strong></p>\n",
    "\n",
    "<ul>\n",
    "\t<li><code>1 &lt;= length &lt;= 10<sup>5</sup></code></li>\n",
    "\t<li><code>0 &lt;= updates.length &lt;= 10<sup>4</sup></code></li>\n",
    "\t<li><code>0 &lt;= startIdx<sub>i</sub> &lt;= endIdx<sub>i</sub> &lt; length</code></li>\n",
    "\t<li><code>-1000 &lt;= inc<sub>i</sub> &lt;= 1000</code></li>\n",
    "</ul>\n",
    "</div></div>"
   ]
  },
  {
   "cell_type": "code",
   "execution_count": 26,
   "id": "716f6037",
   "metadata": {},
   "outputs": [],
   "source": [
    "def getModifiedArray(length, updates):\n",
    "    raise NotImplementedError"
   ]
  },
  {
   "cell_type": "code",
   "execution_count": null,
   "id": "cf3e36b8",
   "metadata": {},
   "outputs": [],
   "source": []
  },
  {
   "cell_type": "markdown",
   "id": "bd3fb197",
   "metadata": {},
   "source": [
    "# Goldman Sachs"
   ]
  },
  {
   "cell_type": "markdown",
   "id": "542f2d35",
   "metadata": {},
   "source": [
    "<div class=\"alert alert-block alert-success\"><b><font size=4>Success</font></b><br><font color=\"b\">Runtime: <font size=4>951 ms</font>, faster than <font size=4>60.78%</font> of Python online submissions for 3Sum Smaller.<br>Memory Usage: <font size=4>14.4 MB</font>, less than <font size=4>53.33%</font> of Python online submissions for 3Sum Smaller.</font></div>"
   ]
  },
  {
   "cell_type": "markdown",
   "id": "4b5fc02c",
   "metadata": {
    "tags": [
     "GS"
    ]
   },
   "source": [
    "## 1041. Robot Bounded In Circle"
   ]
  },
  {
   "cell_type": "markdown",
   "id": "31ed080a",
   "metadata": {},
   "source": [
    "<div class=\"content__u3I1 question-content__JfgR\"><div><p>On an infinite plane, a robot initially stands at <code>(0, 0)</code> and faces north. The robot can receive one of three instructions:</p>\n",
    "\n",
    "<ul>\n",
    "\t<li><code>\"G\"</code>: go straight 1 unit;</li>\n",
    "\t<li><code>\"L\"</code>: turn 90 degrees to the left;</li>\n",
    "\t<li><code>\"R\"</code>: turn 90 degrees to the right.</li>\n",
    "</ul>\n",
    "\n",
    "<p>The robot performs the <code>instructions</code> given in order, and repeats them forever.</p>\n",
    "\n",
    "<p>Return <code>true</code> if and only if there exists a circle in the plane such that the robot never leaves the circle.</p>\n",
    "\n",
    "<p>&nbsp;</p>\n",
    "<p><strong>Example 1:</strong></p>\n",
    "\n",
    "<pre><strong>Input:</strong> instructions = \"GGLLGG\"\n",
    "<strong>Output:</strong> true\n",
    "<strong>Explanation:</strong> The robot moves from (0,0) to (0,2), turns 180 degrees, and then returns to (0,0).\n",
    "When repeating these instructions, the robot remains in the circle of radius 2 centered at the origin.</pre>\n",
    "\n",
    "<p><strong>Example 2:</strong></p>\n",
    "\n",
    "<pre><strong>Input:</strong> instructions = \"GG\"\n",
    "<strong>Output:</strong> false\n",
    "<strong>Explanation:</strong> The robot moves north indefinitely.</pre>\n",
    "\n",
    "<p><strong>Example 3:</strong></p>\n",
    "\n",
    "<pre><strong>Input:</strong> instructions = \"GL\"\n",
    "<strong>Output:</strong> true\n",
    "<strong>Explanation:</strong> The robot moves from (0, 0) -&gt; (0, 1) -&gt; (-1, 1) -&gt; (-1, 0) -&gt; (0, 0) -&gt; ...</pre>\n",
    "\n",
    "<p>&nbsp;</p>\n",
    "<p><strong>Constraints:</strong></p>\n",
    "\n",
    "<ul>\n",
    "\t<li><code>1 &lt;= instructions.length &lt;= 100</code></li>\n",
    "\t<li><code>instructions[i]</code> is <code>'G'</code>, <code>'L'</code> or, <code>'R'</code>.</li>\n",
    "</ul>\n",
    "</div></div>"
   ]
  },
  {
   "cell_type": "markdown",
   "id": "d79bc5be",
   "metadata": {},
   "source": [
    "orientation not change and position change"
   ]
  },
  {
   "cell_type": "code",
   "execution_count": 47,
   "id": "ba0dc586",
   "metadata": {},
   "outputs": [],
   "source": [
    "def isRobotBounded(instructions: str) -> bool:  \n",
    "    dic = {0:0, 1:0}\n",
    "    count = 0\n",
    "    for i in instructions:\n",
    "        if i == 'L':\n",
    "            count += 1\n",
    "        elif i == 'R':\n",
    "            count += 3\n",
    "        else:\n",
    "            dic[count%2] += count%4-count%2-1\n",
    "    return (count%4 != 0) or (dic[0]==dic[1]==0)"
   ]
  },
  {
   "cell_type": "markdown",
   "id": "4d779254",
   "metadata": {},
   "source": [
    "<div class=\"alert alert-block alert-success\"><b><font size=4>Success</font></b><br><font color=\"b\">Runtime: <font size=4>33 ms</font>, faster than <font size=4>46.60%</font> of Python online submissions for Robot Bounded In Circle.<br>Memory Usage: <font size=4>14.3 MB</font>, less than <font size=4>49.37%</font> of Python online submissions for Robot Bounded In Circle.</font></div>"
   ]
  },
  {
   "cell_type": "markdown",
   "id": "17c26a46",
   "metadata": {},
   "source": [
    "## 1086. High Five"
   ]
  },
  {
   "cell_type": "markdown",
   "id": "09182c07",
   "metadata": {},
   "source": [
    "<div class=\"content__u3I1 question-content__JfgR\"><div><p>Given a list of the scores of different students, <code>items</code>, where <code>items[i] = [ID<sub>i</sub>, score<sub>i</sub>]</code> represents one score from a student with <code>ID<sub>i</sub></code>, calculate each student's <strong>top five average</strong>.</p>\n",
    "\n",
    "<p>Return <em>the answer as an array of pairs </em><code>result</code><em>, where </em><code>result[j] = [ID<sub>j</sub>, topFiveAverage<sub>j</sub>]</code><em> represents the student with </em><code>ID<sub>j</sub></code><em> and their <strong>top five average</strong>. Sort </em><code>result</code><em> by </em><code>ID<sub>j</sub></code><em> in <strong>increasing order</strong>.</em></p>\n",
    "\n",
    "<p>A student's <strong>top five average</strong> is calculated by taking the sum of their top five scores and dividing it by <code>5</code> using <strong>integer division</strong>.</p>\n",
    "\n",
    "<p>&nbsp;</p>\n",
    "<p><strong>Example 1:</strong></p>\n",
    "\n",
    "<pre><strong>Input:</strong> items = [[1,91],[1,92],[2,93],[2,97],[1,60],[2,77],[1,65],[1,87],[1,100],[2,100],[2,76]]\n",
    "<strong>Output:</strong> [[1,87],[2,88]]\n",
    "<strong>Explanation: </strong>\n",
    "The student with ID = 1 got scores 91, 92, 60, 65, 87, and 100. Their top five average is (100 + 92 + 91 + 87 + 65) / 5 = 87.\n",
    "The student with ID = 2 got scores 93, 97, 77, 100, and 76. Their top five average is (100 + 97 + 93 + 77 + 76) / 5 = 88.6, but with integer division their average converts to 88.\n",
    "</pre>\n",
    "\n",
    "<p><strong>Example 2:</strong></p>\n",
    "\n",
    "<pre><strong>Input:</strong> items = [[1,100],[7,100],[1,100],[7,100],[1,100],[7,100],[1,100],[7,100],[1,100],[7,100]]\n",
    "<strong>Output:</strong> [[1,100],[7,100]]\n",
    "</pre>\n",
    "\n",
    "<p>&nbsp;</p>\n",
    "<p><strong>Constraints:</strong></p>\n",
    "\n",
    "<ul>\n",
    "\t<li><code>1 &lt;= items.length &lt;= 1000</code></li>\n",
    "\t<li><code>items[i].length == 2</code></li>\n",
    "\t<li><code>1 &lt;= ID<sub>i</sub> &lt;= 1000</code></li>\n",
    "\t<li><code>0 &lt;= score<sub>i</sub> &lt;= 100</code></li>\n",
    "\t<li>For each <code>ID<sub>i</sub></code>, there will be <strong>at least</strong> five scores.</li>\n",
    "</ul>\n",
    "</div></div>"
   ]
  },
  {
   "cell_type": "code",
   "execution_count": 27,
   "id": "12caef56",
   "metadata": {},
   "outputs": [],
   "source": [
    "def highFive(items):\n",
    "    raise NotImplementedError"
   ]
  },
  {
   "cell_type": "markdown",
   "id": "b8a52836",
   "metadata": {},
   "source": [
    "# JP Morgan"
   ]
  },
  {
   "cell_type": "markdown",
   "id": "e2bfa852",
   "metadata": {},
   "source": [
    "## 696. Count Binary Substrings"
   ]
  },
  {
   "cell_type": "markdown",
   "id": "a15403a8",
   "metadata": {},
   "source": [
    "# LeetCode"
   ]
  },
  {
   "cell_type": "markdown",
   "id": "ea28af45",
   "metadata": {},
   "source": [
    "## 289. Game of Life"
   ]
  },
  {
   "cell_type": "markdown",
   "id": "a0241b5c",
   "metadata": {},
   "source": [
    "<div class=\"content__u3I1 question-content__JfgR\"><div><p>According to&nbsp;<a href=\"https://en.wikipedia.org/wiki/Conway%27s_Game_of_Life\" target=\"_blank\">Wikipedia's article</a>: \"The <b>Game of Life</b>, also known simply as <b>Life</b>, is a cellular automaton devised by the British mathematician John Horton Conway in 1970.\"</p>\n",
    "\n",
    "<p>The board is made up of an <code>m x n</code> grid of cells, where each cell has an initial state: <b>live</b> (represented by a <code>1</code>) or <b>dead</b> (represented by a <code>0</code>). Each cell interacts with its <a href=\"https://en.wikipedia.org/wiki/Moore_neighborhood\" target=\"_blank\">eight neighbors</a> (horizontal, vertical, diagonal) using the following four rules (taken from the above Wikipedia article):</p>\n",
    "\n",
    "<ol>\n",
    "\t<li>Any live cell with fewer than two live neighbors dies as if caused by under-population.</li>\n",
    "\t<li>Any live cell with two or three live neighbors lives on to the next generation.</li>\n",
    "\t<li>Any live cell with more than three live neighbors dies, as if by over-population.</li>\n",
    "\t<li>Any dead cell with exactly three live neighbors becomes a live cell, as if by reproduction.</li>\n",
    "</ol>\n",
    "\n",
    "<p><span>The next state is created by applying the above rules simultaneously to every cell in the current state, where births and deaths occur simultaneously. Given the current state of the <code>m x n</code> grid <code>board</code>, return <em>the next state</em>.</span></p>\n",
    "\n",
    "<p>&nbsp;</p>\n",
    "<p><strong>Example 1:</strong></p>\n",
    "<img alt=\"\" src=\"https://assets.leetcode.com/uploads/2020/12/26/grid1.jpg\" style=\"width: 562px; height: 322px;\">\n",
    "<pre><strong>Input:</strong> board = [[0,1,0],[0,0,1],[1,1,1],[0,0,0]]\n",
    "<strong>Output:</strong> [[0,0,0],[1,0,1],[0,1,1],[0,1,0]]\n",
    "</pre>\n",
    "\n",
    "<p><strong>Example 2:</strong></p>\n",
    "<img alt=\"\" src=\"https://assets.leetcode.com/uploads/2020/12/26/grid2.jpg\" style=\"width: 402px; height: 162px;\">\n",
    "<pre><strong>Input:</strong> board = [[1,1],[1,0]]\n",
    "<strong>Output:</strong> [[1,1],[1,1]]\n",
    "</pre>\n",
    "\n",
    "<p>&nbsp;</p>\n",
    "<p><strong>Constraints:</strong></p>\n",
    "\n",
    "<ul>\n",
    "\t<li><code>m == board.length</code></li>\n",
    "\t<li><code>n == board[i].length</code></li>\n",
    "\t<li><code>1 &lt;= m, n &lt;= 25</code></li>\n",
    "\t<li><code>board[i][j]</code> is <code>0</code> or <code>1</code>.</li>\n",
    "</ul>\n",
    "\n",
    "<p>&nbsp;</p>\n",
    "<p><strong>Follow up:</strong></p>\n",
    "\n",
    "<ul>\n",
    "\t<li>Could you solve it in-place? Remember that the board needs to be updated simultaneously: You cannot update some cells first and then use their updated values to update other cells.</li>\n",
    "\t<li>In this question, we represent the board using a 2D array. In principle, the board is infinite, which would cause problems when the active area encroaches upon the border of the array (i.e., live cells reach the border). How would you address these problems?</li>\n",
    "</ul>\n",
    "</div></div>"
   ]
  },
  {
   "cell_type": "code",
   "execution_count": 37,
   "id": "3df9eb17",
   "metadata": {},
   "outputs": [
    {
     "data": {
      "text/plain": [
       "[[0, 0, 0], [1, 0, 1], [0, 1, 1], [0, 1, 0]]"
      ]
     },
     "execution_count": 37,
     "metadata": {},
     "output_type": "execute_result"
    }
   ],
   "source": [
    "def gameOfLife(board):\n",
    "    m = len(board)\n",
    "    n = len(board[0])\n",
    "    for i in range(m):\n",
    "        for j in range(n):\n",
    "            count = -board[i][j]\n",
    "            for x in range(max(i-1,0), min(i+2,m)):\n",
    "                for y in range(max(j-1,0),min(j+2,n)):\n",
    "                    count += board[x][y]>0\n",
    "            if board[i][j]:\n",
    "                if (count<2) or (count>3):\n",
    "                    board[i][j] = 2\n",
    "            else:\n",
    "                if count == 3:\n",
    "                    board[i][j] = -1\n",
    "    for i in range(m):\n",
    "        for j in range(n):\n",
    "            if board[i][j]==2: board[i][j]=0\n",
    "            if board[i][j]==-1: board[i][j]=1\n",
    "    return board\n",
    "\n",
    "gameOfLife([[0,1,0],[0,0,1],[1,1,1],[0,0,0]]) "
   ]
  },
  {
   "cell_type": "markdown",
   "id": "2f38f201",
   "metadata": {},
   "source": [
    "<div class=\"alert alert-block alert-success\"><b><font size=4>Success</font></b><br><font color=\"b\">Runtime: <font size=4>24 ms</font>, faster than <font size=4>56.82%</font> of Python online submissions for Game of Life.<br>Memory Usage: <font size=4>13.5 MB</font>, less than <font size=4>42.68%</font> of Python online submissions for Game of Life.</font></div>"
   ]
  },
  {
   "cell_type": "markdown",
   "id": "86f9c95d",
   "metadata": {
    "heading_collapsed": true
   },
   "source": [
    "## 8. String to Integer (atoi)"
   ]
  },
  {
   "cell_type": "markdown",
   "id": "c6d1ae7b",
   "metadata": {
    "hidden": true
   },
   "source": [
    "<div><p>Implement the <code>myAtoi(string s)</code> function, which converts a string to a 32-bit signed integer (similar to C/C++'s <code>atoi</code> function).</p>\n",
    "\n",
    "<p>The algorithm for <code>myAtoi(string s)</code> is as follows:</p>\n",
    "\n",
    "<ol>\n",
    "\t<li>Read in and ignore any leading whitespace.</li>\n",
    "\t<li>Check if the next character (if not already at the end of the string) is <code>'-'</code> or <code>'+'</code>. Read this character in if it is either. This determines if the final result is negative or positive respectively. Assume the result is positive if neither is present.</li>\n",
    "\t<li>Read in next the characters until the next non-digit charcter or the end of the input is reached. The rest of the string is ignored.</li>\n",
    "\t<li>Convert these digits into an integer (i.e. <code>\"123\" -&gt; 123</code>, <code>\"0032\" -&gt; 32</code>). If no digits were read, then the integer is <code>0</code>. Change the sign as necessary (from step 2).</li>\n",
    "\t<li>If the integer is out of the 32-bit signed integer range <code>[-2<sup>31</sup>, 2<sup>31</sup> - 1]</code>, then clamp the integer so that it remains in the range. Specifically, integers less than <code>-2<sup>31</sup></code> should be clamped to <code>-2<sup>31</sup></code>, and integers greater than <code>2<sup>31</sup> - 1</code> should be clamped to <code>2<sup>31</sup> - 1</code>.</li>\n",
    "\t<li>Return the integer as the final result.</li>\n",
    "</ol>\n",
    "\n",
    "<p><strong>Note:</strong></p>\n",
    "\n",
    "<ul>\n",
    "\t<li>Only the space character <code>' '</code> is considered a whitespace character.</li>\n",
    "\t<li><strong>Do not ignore</strong> any characters other than the leading whitespace or the rest of the string after the digits.</li>\n",
    "</ul>\n",
    "\n",
    "<p>&nbsp;</p>\n",
    "<p><strong>Example 1:</strong></p>\n",
    "\n",
    "<pre><strong>Input:</strong> s = \"42\"\n",
    "<strong>Output:</strong> 42\n",
    "<strong>Explanation:</strong> The underlined characters are what is read in, the caret is the current reader position.\n",
    "Step 1: \"42\" (no characters read because there is no leading whitespace)\n",
    "         ^\n",
    "Step 2: \"42\" (no characters read because there is neither a '-' nor '+')\n",
    "         ^\n",
    "Step 3: \"<u>42</u>\" (\"42\" is read in)\n",
    "           ^\n",
    "The parsed integer is 42.\n",
    "Since 42 is in the range [-2<sup>31</sup>, 2<sup>31</sup> - 1], the final result is 42.\n",
    "</pre>\n",
    "\n",
    "<p><strong>Example 2:</strong></p>\n",
    "\n",
    "<pre><strong>Input:</strong> s = \"   -42\"\n",
    "<strong>Output:</strong> -42\n",
    "<strong>Explanation:</strong>\n",
    "Step 1: \"<u>   </u>-42\" (leading whitespace is read and ignored)\n",
    "            ^\n",
    "Step 2: \"   <u>-</u>42\" ('-' is read, so the result should be negative)\n",
    "             ^\n",
    "Step 3: \"   -<u>42</u>\" (\"42\" is read in)\n",
    "               ^\n",
    "The parsed integer is -42.\n",
    "Since -42 is in the range [-2<sup>31</sup>, 2<sup>31</sup> - 1], the final result is -42.\n",
    "</pre>\n",
    "\n",
    "<p><strong>Example 3:</strong></p>\n",
    "\n",
    "<pre><strong>Input:</strong> s = \"4193 with words\"\n",
    "<strong>Output:</strong> 4193\n",
    "<strong>Explanation:</strong>\n",
    "Step 1: \"4193 with words\" (no characters read because there is no leading whitespace)\n",
    "         ^\n",
    "Step 2: \"4193 with words\" (no characters read because there is neither a '-' nor '+')\n",
    "         ^\n",
    "Step 3: \"<u>4193</u> with words\" (\"4193\" is read in; reading stops because the next character is a non-digit)\n",
    "             ^\n",
    "The parsed integer is 4193.\n",
    "Since 4193 is in the range [-2<sup>31</sup>, 2<sup>31</sup> - 1], the final result is 4193.\n",
    "</pre>\n",
    "\n",
    "<p><strong>Example 4:</strong></p>\n",
    "\n",
    "<pre><strong>Input:</strong> s = \"words and 987\"\n",
    "<strong>Output:</strong> 0\n",
    "<strong>Explanation:\n",
    "</strong>Step 1: \"words and 987\" (no characters read because there is no leading whitespace)\n",
    "         ^\n",
    "Step 2: \"words and 987\" (no characters read because there is neither a '-' nor '+')\n",
    "         ^\n",
    "Step 3: \"words and 987\" (reading stops immediately because there is a non-digit 'w')\n",
    "         ^\n",
    "The parsed integer is 0 because no digits were read.\n",
    "Since 0 is in the range [-2<sup>31</sup>, 2<sup>31</sup> - 1], the final result is 0.\n",
    "</pre>\n",
    "\n",
    "<p><strong>Example 5:</strong></p>\n",
    "\n",
    "<pre><strong>Input:</strong> s = \"-91283472332\"\n",
    "<strong>Output:</strong> -2147483648\n",
    "<strong>Explanation:\n",
    "</strong>Step 1: \"-91283472332\" (no characters read because there is no leading whitespace)\n",
    "         ^\n",
    "Step 2: \"<u>-</u>91283472332\" ('-' is read, so the result should be negative)\n",
    "          ^\n",
    "Step 3: \"-<u>91283472332</u>\" (\"91283472332\" is read in)\n",
    "                     ^\n",
    "The parsed integer is -91283472332.\n",
    "Since -91283472332 is less than the lower bound of the range [-2<sup>31</sup>, 2<sup>31</sup> - 1], the final result is clamped to -2<sup>31</sup> = -2147483648.<strong><span style=\"display: none;\"> </span></strong>\n",
    "</pre>\n",
    "\n",
    "<p>&nbsp;</p>\n",
    "<p><strong>Constraints:</strong></p>\n",
    "\n",
    "<ul>\n",
    "\t<li><code>0 &lt;= s.length &lt;= 200</code></li>\n",
    "\t<li><code>s</code> consists of English letters (lower-case and upper-case), digits (<code>0-9</code>), <code>' '</code>, <code>'+'</code>, <code>'-'</code>, and <code>'.'</code>.</li>\n",
    "</ul>\n",
    "</div>"
   ]
  },
  {
   "cell_type": "code",
   "execution_count": 26,
   "id": "326fc57f",
   "metadata": {
    "hidden": true
   },
   "outputs": [],
   "source": [
    "def myAtoi(s: str) -> int:\n",
    "    s = s.strip()\n",
    "    \n",
    "    if not s:\n",
    "        return 0\n",
    "    \n",
    "    i = 0\n",
    "    \n",
    "    sign = 1\n",
    "    if s[0] == '+':\n",
    "        sign *= 1\n",
    "        i += 1\n",
    "    elif s[0] == '-':\n",
    "        sign *= -1\n",
    "        i += 1\n",
    "        \n",
    "    res = 0\n",
    "\n",
    "    while i<len(s):\n",
    "        if not s[i].isdigit():\n",
    "            return res*sign\n",
    "        elif res+(((sign+1)/2+int(s[i]))>8) > 214748364:\n",
    "            return sign*(2147483648-(sign+1)//2)\n",
    "        else:\n",
    "            res = res*10 + int(s[i])\n",
    "        i += 1\n",
    "        \n",
    "    return res*sign"
   ]
  },
  {
   "cell_type": "markdown",
   "id": "850bd53f",
   "metadata": {
    "hidden": true
   },
   "source": [
    "<div class=\"alert alert-block alert-success\"><b><font size=4>Success</font></b><br><font color=\"b\">Runtime: <font size=4>36 ms</font>, faster than <font size=4>68.09%</font> of Python online submissions for String to Integer (atoi).<br>Memory Usage: <font size=4>14.3 MB</font>, less than <font size=4>23.74%</font> of Python online submissions for String to Integer (atoi).</font></div>"
   ]
  },
  {
   "cell_type": "markdown",
   "id": "2a0b6725",
   "metadata": {
    "heading_collapsed": true
   },
   "source": [
    "## 42. Trapping Rain Water"
   ]
  },
  {
   "cell_type": "markdown",
   "id": "4fed7b16",
   "metadata": {
    "hidden": true
   },
   "source": [
    "<div><p>Given <code>n</code> non-negative integers representing an elevation map where the width of each bar is <code>1</code>, compute how much water it can trap after raining.</p>\n",
    "\n",
    "<p>&nbsp;</p>\n",
    "<p><strong>Example 1:</strong></p>\n",
    "<img src=\"https://assets.leetcode.com/uploads/2018/10/22/rainwatertrap.png\" style=\"width: 412px; height: 161px;\">\n",
    "<pre><strong>Input:</strong> height = [0,1,0,2,1,0,1,3,2,1,2,1]\n",
    "<strong>Output:</strong> 6\n",
    "<strong>Explanation:</strong> The above elevation map (black section) is represented by array [0,1,0,2,1,0,1,3,2,1,2,1]. In this case, 6 units of rain water (blue section) are being trapped.\n",
    "</pre>\n",
    "\n",
    "<p><strong>Example 2:</strong></p>\n",
    "\n",
    "<pre><strong>Input:</strong> height = [4,2,0,3,2,5]\n",
    "<strong>Output:</strong> 9\n",
    "</pre>\n",
    "\n",
    "<p>&nbsp;</p>\n",
    "<p><strong>Constraints:</strong></p>\n",
    "\n",
    "<ul>\n",
    "\t<li><code>n == height.length</code></li>\n",
    "\t<li><code>1 &lt;= n &lt;= 2 * 10<sup>4</sup></code></li>\n",
    "\t<li><code>0 &lt;= height[i] &lt;= 10<sup>5</sup></code></li>\n",
    "</ul>\n",
    "</div>"
   ]
  },
  {
   "cell_type": "code",
   "execution_count": 44,
   "id": "894fdc1f",
   "metadata": {
    "hidden": true
   },
   "outputs": [],
   "source": [
    "def trap(height) -> int:\n",
    "    left = 0\n",
    "    right = len(height)-1\n",
    "    res = 0\n",
    "    block = 0\n",
    "    for i in range(1,right+1):\n",
    "        if height[i] > height[left]:\n",
    "            res += height[left]*(i-left-1)-block\n",
    "            left = i\n",
    "            block = 0\n",
    "            continue\n",
    "        block += height[i]\n",
    "        \n",
    "    block = 0\n",
    "    for i in range(right-1,left-1,-1):\n",
    "        if height[i] > height[right]:\n",
    "            res += height[right]*(right-i-1)-block\n",
    "            right = i\n",
    "            block = 0\n",
    "            continue\n",
    "        block += height[i]\n",
    "    return res "
   ]
  },
  {
   "cell_type": "markdown",
   "id": "eb3b639c",
   "metadata": {
    "hidden": true
   },
   "source": [
    "<div class=\"alert alert-block alert-success\"><b><font size=4>Success</font></b><br><font color=\"b\">Runtime: <font size=4>96 ms</font>, faster than <font size=4>33.07%</font> of Python online submissions for Trapping Rain Water.<br>Memory Usage: <font size=4>15.6 MB</font>, less than <font size=4>62.32%</font> of Python online submissions for Trapping Rain Water.</font></div>"
   ]
  },
  {
   "cell_type": "markdown",
   "id": "de1500ea",
   "metadata": {
    "heading_collapsed": true
   },
   "source": [
    "## 119. Pascal's Triangle II"
   ]
  },
  {
   "cell_type": "markdown",
   "id": "4ba9cb67",
   "metadata": {
    "hidden": true
   },
   "source": [
    "<div><p>Given an integer <code>rowIndex</code>, return the <code>rowIndex<sup>th</sup></code> (<strong>0-indexed</strong>) row of the <strong>Pascal's triangle</strong>.</p>\n",
    "\n",
    "<p>In <strong>Pascal's triangle</strong>, each number is the sum of the two numbers directly above it as shown:</p>\n",
    "<img alt=\"\" src=\"https://upload.wikimedia.org/wikipedia/commons/0/0d/PascalTriangleAnimated2.gif\" style=\"height:240px; width:260px\">\n",
    "<p>&nbsp;</p>\n",
    "<p><strong>Example 1:</strong></p>\n",
    "<pre><strong>Input:</strong> rowIndex = 3\n",
    "<strong>Output:</strong> [1,3,3,1]\n",
    "</pre><p><strong>Example 2:</strong></p>\n",
    "<pre><strong>Input:</strong> rowIndex = 0\n",
    "<strong>Output:</strong> [1]\n",
    "</pre><p><strong>Example 3:</strong></p>\n",
    "<pre><strong>Input:</strong> rowIndex = 1\n",
    "<strong>Output:</strong> [1,1]\n",
    "</pre>\n",
    "<p>&nbsp;</p>\n",
    "<p><strong>Constraints:</strong></p>\n",
    "\n",
    "<ul>\n",
    "\t<li><code>0 &lt;= rowIndex &lt;= 33</code></li>\n",
    "</ul>\n",
    "\n",
    "<p>&nbsp;</p>\n",
    "<p><strong>Follow up:</strong> Could you optimize your algorithm to use only <code>O(rowIndex)</code> extra space?</p>\n",
    "</div>"
   ]
  },
  {
   "cell_type": "code",
   "execution_count": 47,
   "id": "cd915cb7",
   "metadata": {
    "hidden": true
   },
   "outputs": [],
   "source": [
    "class Node:\n",
    "    def __init__(self, val=None):\n",
    "        self.val = val\n",
    "        self.next = None\n",
    "        \n",
    "def pascal(index):\n",
    "    if index==1:\n",
    "        return [1]\n",
    "    elif index==2:\n",
    "        return [1,1]\n",
    "    else:\n",
    "        node = Node(1)\n",
    "        node.next = Node(2)\n",
    "        node.next.next = Node(1)\n",
    "        for i in range(3,index):\n",
    "            curr = node\n",
    "            tmp = Node(curr.val+curr.next.val)\n",
    "            tmp.next = curr.next\n",
    "            curr.next = tmp\n",
    "            curr = tmp.next\n",
    "            while curr.next:\n",
    "                curr.val += curr.next.val\n",
    "                curr = curr.next\n",
    "        res = []\n",
    "        curr = node\n",
    "        while curr.next:\n",
    "            res.append(curr.val)\n",
    "            curr = curr.next\n",
    "        res.append(curr.val)\n",
    "        return res"
   ]
  },
  {
   "cell_type": "markdown",
   "id": "51afc109",
   "metadata": {
    "hidden": true
   },
   "source": [
    "<div class=\"alert alert-block alert-success\"><b><font size=4>Success</font></b><br><font color=\"b\">Runtime: <font size=4>24 ms</font>, faster than <font size=4>96.90%</font> of Python online submissions for Pascal's Triangle II.<br>Memory Usage: <font size=4>14.4 MB</font>, less than <font size=4>18.25%</font> of Python online submissions for Pascal's Triangle II.</font></div>"
   ]
  },
  {
   "cell_type": "markdown",
   "id": "f5486f98",
   "metadata": {
    "heading_collapsed": true
   },
   "source": [
    "## 155. Min Stack"
   ]
  },
  {
   "cell_type": "markdown",
   "id": "39410a36",
   "metadata": {
    "hidden": true
   },
   "source": [
    "<div><p>Design a stack that supports push, pop, top, and retrieving the minimum element in constant time.</p>\n",
    "\n",
    "<p>Implement the <code>MinStack</code> class:</p>\n",
    "\n",
    "<ul>\n",
    "\t<li><code>MinStack()</code> initializes the stack object.</li>\n",
    "\t<li><code>void push(int val)</code> pushes the element <code>val</code> onto the stack.</li>\n",
    "\t<li><code>void pop()</code> removes the element on the top of the stack.</li>\n",
    "\t<li><code>int top()</code> gets the top element of the stack.</li>\n",
    "\t<li><code>int getMin()</code> retrieves the minimum element in the stack.</li>\n",
    "</ul>\n",
    "\n",
    "<p>&nbsp;</p>\n",
    "<p><strong>Example 1:</strong></p>\n",
    "\n",
    "<pre><strong>Input</strong>\n",
    "[\"MinStack\",\"push\",\"push\",\"push\",\"getMin\",\"pop\",\"top\",\"getMin\"]\n",
    "[[],[-2],[0],[-3],[],[],[],[]]\n",
    "\n",
    "<strong>Output</strong>\n",
    "[null,null,null,null,-3,null,0,-2]\n",
    "\n",
    "<strong>Explanation</strong>\n",
    "MinStack minStack = new MinStack();\n",
    "minStack.push(-2);\n",
    "minStack.push(0);\n",
    "minStack.push(-3);\n",
    "minStack.getMin(); // return -3\n",
    "minStack.pop();\n",
    "minStack.top();    // return 0\n",
    "minStack.getMin(); // return -2\n",
    "</pre>\n",
    "\n",
    "<p>&nbsp;</p>\n",
    "<p><strong>Constraints:</strong></p>\n",
    "\n",
    "<ul>\n",
    "\t<li><code>-2<sup>31</sup> &lt;= val &lt;= 2<sup>31</sup> - 1</code></li>\n",
    "\t<li>Methods <code>pop</code>, <code>top</code> and <code>getMin</code> operations will always be called on <strong>non-empty</strong> stacks.</li>\n",
    "\t<li>At most <code>3 * 10<sup>4</sup></code> calls will be made to <code>push</code>, <code>pop</code>, <code>top</code>, and <code>getMin</code>.</li>\n",
    "</ul>\n",
    "</div>"
   ]
  },
  {
   "cell_type": "code",
   "execution_count": null,
   "id": "7f71c6dc",
   "metadata": {
    "hidden": true
   },
   "outputs": [],
   "source": [
    "class "
   ]
  },
  {
   "cell_type": "markdown",
   "id": "7beaf15f",
   "metadata": {
    "heading_collapsed": true
   },
   "source": [
    "## 166. Fraction to Recurring Decimal"
   ]
  },
  {
   "cell_type": "markdown",
   "id": "cab14843",
   "metadata": {
    "hidden": true
   },
   "source": [
    "<div><p>Given two integers representing the <code>numerator</code> and <code>denominator</code> of a fraction, return <em>the fraction in string format</em>.</p>\n",
    "\n",
    "<p>If the fractional part is repeating, enclose the repeating part in parentheses.</p>\n",
    "\n",
    "<p>If multiple answers are possible, return <strong>any of them</strong>.</p>\n",
    "\n",
    "<p>It is <strong>guaranteed</strong> that the length of the answer string is less than <code>10<sup>4</sup></code> for all the given inputs.</p>\n",
    "\n",
    "<p>&nbsp;</p>\n",
    "<p><strong>Example 1:</strong></p>\n",
    "<pre><strong>Input:</strong> numerator = 1, denominator = 2\n",
    "<strong>Output:</strong> \"0.5\"\n",
    "</pre><p><strong>Example 2:</strong></p>\n",
    "<pre><strong>Input:</strong> numerator = 2, denominator = 1\n",
    "<strong>Output:</strong> \"2\"\n",
    "</pre><p><strong>Example 3:</strong></p>\n",
    "<pre><strong>Input:</strong> numerator = 2, denominator = 3\n",
    "<strong>Output:</strong> \"0.(6)\"\n",
    "</pre><p><strong>Example 4:</strong></p>\n",
    "<pre><strong>Input:</strong> numerator = 4, denominator = 333\n",
    "<strong>Output:</strong> \"0.(012)\"\n",
    "</pre><p><strong>Example 5:</strong></p>\n",
    "<pre><strong>Input:</strong> numerator = 1, denominator = 5\n",
    "<strong>Output:</strong> \"0.2\"\n",
    "</pre>\n",
    "<p>&nbsp;</p>\n",
    "<p><strong>Constraints:</strong></p>\n",
    "\n",
    "<ul>\n",
    "\t<li><code>-2<sup>31</sup> &lt;=&nbsp;numerator, denominator &lt;= 2<sup>31</sup> - 1</code></li>\n",
    "\t<li><code>denominator != 0</code></li>\n",
    "</ul>\n",
    "</div>"
   ]
  },
  {
   "cell_type": "code",
   "execution_count": 124,
   "id": "733a484e",
   "metadata": {
    "hidden": true
   },
   "outputs": [],
   "source": [
    "def fractionToDecimal(a: int, b: int) -> str:\n",
    "    assert b != 0\n",
    "    \n",
    "    if (a>0 and b<0) or (a<0 and b>0):\n",
    "        x = '-'\n",
    "    else:\n",
    "        x = ''\n",
    "        \n",
    "    a = abs(a)\n",
    "    b = abs(b)\n",
    "    x += str(a//b)\n",
    "    a = a%b\n",
    "    if a:\n",
    "        x += '.'\n",
    "    else:\n",
    "        return x\n",
    "    \n",
    "    pos = len(x)\n",
    "    \n",
    "    remainder = {a:pos}\n",
    "    \n",
    "    while True:\n",
    "        scale = 10\n",
    "        while (a*scale<b):\n",
    "            print(1)\n",
    "            scale *= 10\n",
    "        y = str(a*scale//b)    \n",
    "        y = '0'*(len(str(scale))-len(y)-1)+y\n",
    "        x += y\n",
    "        pos += len(y)\n",
    "        a = a*scale%b\n",
    "        if a:\n",
    "            if a in remainder:\n",
    "                return x[:remainder[a]]+'('+x[remainder[a]:pos]+')'\n",
    "            else:\n",
    "                remainder[a]=pos\n",
    "        else:\n",
    "            return x    "
   ]
  },
  {
   "cell_type": "markdown",
   "id": "58298cc3",
   "metadata": {
    "hidden": true
   },
   "source": [
    "<div class=\"alert alert-block alert-success\"><b><font size=4>Success</font></b><br><font color=\"b\">Runtime: <font size=4>33 ms</font>, faster than <font size=4>41.89%</font> of Python online submissions for Fraction to Recurring Decimal.<br>Memory Usage: <font size=4>14.4 MB</font>, less than <font size=4>64.48%</font> of Python online submissions for Fraction to Recurring Decimal.</font></div>"
   ]
  },
  {
   "cell_type": "markdown",
   "id": "984c8054",
   "metadata": {},
   "source": [
    "## 167. Two Sum II - Input array is sorted"
   ]
  },
  {
   "cell_type": "markdown",
   "id": "fd165b63",
   "metadata": {},
   "source": [
    "<div><p>Given a <strong>1-indexed</strong> array of integers <code>numbers</code> that is already <strong><em>sorted in non-decreasing order</em></strong>, find two numbers such that they add up to a specific <code>target</code> number. Let these two numbers be <code>numbers[index<sub>1</sub>]</code> and <code>numbers[index<sub>2</sub>]</code> where <code>1 &lt;= first &lt; second &lt;= numbers.length</code>.</p>\n",
    "\n",
    "<p>Return<em> the indices of the two numbers, </em><code>index<sub>1</sub></code><em> and </em><code>index<sub>2</sub></code><em>, as an integer array </em><code>[index<sub>1</sub>, index<sub>2</sub>]</code><em> of length 2.</em></p>\n",
    "\n",
    "<p>The tests are generated such that there is <strong>exactly one solution</strong>. You <strong>may not</strong> use the same element twice.</p>\n",
    "\n",
    "<p>&nbsp;</p>\n",
    "<p><strong>Example 1:</strong></p>\n",
    "\n",
    "<pre><strong>Input:</strong> numbers = [<u>2</u>,<u>7</u>,11,15], target = 9\n",
    "<strong>Output:</strong> [1,2]\n",
    "<strong>Explanation:</strong> The sum of 2 and 7 is 9. Therefore index<sub>1</sub> = 1, index<sub>2</sub> = 2.\n",
    "</pre>\n",
    "\n",
    "<p><strong>Example 2:</strong></p>\n",
    "\n",
    "<pre><strong>Input:</strong> numbers = [<u>2</u>,3,<u>4</u>], target = 6\n",
    "<strong>Output:</strong> [1,3]\n",
    "<strong>Explanation:</strong> The sum of 2 and 4 is 6. Therefore index<sub>1</sub> = 1, index<sub>2</sub> = 3.\n",
    "</pre>\n",
    "\n",
    "<p><strong>Example 3:</strong></p>\n",
    "\n",
    "<pre><strong>Input:</strong> numbers = [-1,0], target = -1\n",
    "<strong>Output:</strong> [1,2]\n",
    "<strong>Explanation:</strong> The sum of -1 and 0 is -1. Therefore index<sub>1</sub> = 1, index<sub>2</sub> = 2.\n",
    "</pre>\n",
    "\n",
    "<p>&nbsp;</p>\n",
    "<p><strong>Constraints:</strong></p>\n",
    "\n",
    "<ul>\n",
    "\t<li><code>2 &lt;= numbers.length &lt;= 3 * 10<sup>4</sup></code></li>\n",
    "\t<li><code>-1000 &lt;= numbers[i] &lt;= 1000</code></li>\n",
    "\t<li><code>numbers</code> is sorted in <strong>non-decreasing order</strong>.</li>\n",
    "\t<li><code>-1000 &lt;= target &lt;= 1000</code></li>\n",
    "\t<li>The tests are generated such that there is <strong>exactly one solution</strong>.</li>\n",
    "</ul>\n",
    "</div>"
   ]
  },
  {
   "cell_type": "markdown",
   "id": "e36010f6",
   "metadata": {
    "heading_collapsed": true
   },
   "source": [
    "## 209. Minimum Size Subarray Sum <font color='orange'>(Follow Up)</font>"
   ]
  },
  {
   "cell_type": "markdown",
   "id": "b19eb8d0",
   "metadata": {
    "hidden": true
   },
   "source": [
    "<div><p>Given an array of positive integers <code>nums</code> and a positive integer <code>target</code>, return the minimal length of a <strong>contiguous subarray</strong> <code>[nums<sub>l</sub>, nums<sub>l+1</sub>, ..., nums<sub>r-1</sub>, nums<sub>r</sub>]</code> of which the sum is greater than or equal to <code>target</code>. If there is no such subarray, return <code>0</code> instead.</p>\n",
    "\n",
    "<p>&nbsp;</p>\n",
    "<p><strong>Example 1:</strong></p>\n",
    "\n",
    "<pre><strong>Input:</strong> target = 7, nums = [2,3,1,2,4,3]\n",
    "<strong>Output:</strong> 2\n",
    "<strong>Explanation:</strong> The subarray [4,3] has the minimal length under the problem constraint.\n",
    "</pre>\n",
    "\n",
    "<p><strong>Example 2:</strong></p>\n",
    "\n",
    "<pre><strong>Input:</strong> target = 4, nums = [1,4,4]\n",
    "<strong>Output:</strong> 1\n",
    "</pre>\n",
    "\n",
    "<p><strong>Example 3:</strong></p>\n",
    "\n",
    "<pre><strong>Input:</strong> target = 11, nums = [1,1,1,1,1,1,1,1]\n",
    "<strong>Output:</strong> 0\n",
    "</pre>\n",
    "\n",
    "<p>&nbsp;</p>\n",
    "<p><strong>Constraints:</strong></p>\n",
    "\n",
    "<ul>\n",
    "\t<li><code>1 &lt;= target &lt;= 10<sup>9</sup></code></li>\n",
    "\t<li><code>1 &lt;= nums.length &lt;= 10<sup>5</sup></code></li>\n",
    "\t<li><code>1 &lt;= nums[i] &lt;= 10<sup>5</sup></code></li>\n",
    "</ul>\n",
    "\n",
    "<p>&nbsp;</p>\n",
    "<strong>Follow up:</strong> If you have figured out the <code>O(n)</code> solution, try coding another solution of which the time complexity is <code>O(n log(n))</code>.</div>"
   ]
  },
  {
   "cell_type": "code",
   "execution_count": 16,
   "id": "cb6d8f9d",
   "metadata": {
    "hidden": true
   },
   "outputs": [],
   "source": [
    "def minSubArrayLen(nums, target):\n",
    "    n = len(nums)\n",
    "    res = 0\n",
    "    \n",
    "    i = 0 \n",
    "    j = 0\n",
    "    temp = nums[j]\n",
    "    while temp < target:\n",
    "        j += 1\n",
    "        if j == n:\n",
    "            return res\n",
    "        temp += nums[j]\n",
    "    while temp >= target:\n",
    "        temp -= nums[i]\n",
    "        i += 1\n",
    "    i -= 1\n",
    "    temp += nums[i]\n",
    "    \n",
    "    res = j-i+1\n",
    "    if res == 1:\n",
    "        return res\n",
    "    \n",
    "    i += 1\n",
    "    j += 1\n",
    "    while j < n:\n",
    "        temp = temp-nums[i-1]+nums[j]\n",
    "        if  temp >= target:\n",
    "            while temp >= target:\n",
    "                temp -= nums[i]\n",
    "                i += 1\n",
    "            i -= 1\n",
    "            temp += nums[i]\n",
    "            res = min(res, j-i+1)\n",
    "            if res == 1:\n",
    "                return res\n",
    "        i += 1\n",
    "        j += 1\n",
    "    \n",
    "    return res"
   ]
  },
  {
   "cell_type": "markdown",
   "id": "45fda767",
   "metadata": {
    "hidden": true
   },
   "source": [
    "<div class=\"alert alert-block alert-success\"><b><font size=4>Success</font></b><br><font color=\"b\">Runtime: <font size=4>113 ms</font>, faster than <font size=4>26.95%</font> of Python online submissions for Minimum Size Subarray Sum.<br>Memory Usage: <font size=4>16.5 MB</font>, less than <font size=4>76.69%</font> of Python online submissions for Minimum Size Subarray Sum.</font></div>"
   ]
  },
  {
   "cell_type": "markdown",
   "id": "fc07ed64",
   "metadata": {},
   "source": [
    "## <font color='red'>295. Find Median from Data Stream</font>"
   ]
  },
  {
   "cell_type": "markdown",
   "id": "66b80377",
   "metadata": {},
   "source": [
    "<div><p>The <strong>median</strong> is the middle value in an ordered integer list. If the size of the list is even, there is no middle value and the median is the mean of the two middle values.</p>\n",
    "\n",
    "<ul>\n",
    "\t<li>For example, for <code>arr = [2,3,4]</code>, the median is <code>3</code>.</li>\n",
    "\t<li>For example, for <code>arr = [2,3]</code>, the median is <code>(2 + 3) / 2 = 2.5</code>.</li>\n",
    "</ul>\n",
    "\n",
    "<p>Implement the MedianFinder class:</p>\n",
    "\n",
    "<ul>\n",
    "\t<li><code>MedianFinder()</code> initializes the <code>MedianFinder</code> object.</li>\n",
    "\t<li><code>void addNum(int num)</code> adds the integer <code>num</code> from the data stream to the data structure.</li>\n",
    "\t<li><code>double findMedian()</code> returns the median of all elements so far. Answers within <code>10<sup>-5</sup></code> of the actual answer will be accepted.</li>\n",
    "</ul>\n",
    "\n",
    "<p>&nbsp;</p>\n",
    "<p><strong>Example 1:</strong></p>\n",
    "\n",
    "<pre><strong>Input</strong>\n",
    "[\"MedianFinder\", \"addNum\", \"addNum\", \"findMedian\", \"addNum\", \"findMedian\"]\n",
    "[[], [1], [2], [], [3], []]\n",
    "<strong>Output</strong>\n",
    "[null, null, null, 1.5, null, 2.0]\n",
    "\n",
    "<strong>Explanation</strong>\n",
    "MedianFinder medianFinder = new MedianFinder();\n",
    "medianFinder.addNum(1);    // arr = [1]\n",
    "medianFinder.addNum(2);    // arr = [1, 2]\n",
    "medianFinder.findMedian(); // return 1.5 (i.e., (1 + 2) / 2)\n",
    "medianFinder.addNum(3);    // arr[1, 2, 3]\n",
    "medianFinder.findMedian(); // return 2.0\n",
    "</pre>\n",
    "\n",
    "<p>&nbsp;</p>\n",
    "<p><strong>Constraints:</strong></p>\n",
    "\n",
    "<ul>\n",
    "\t<li><code>-10<sup>5</sup> &lt;= num &lt;= 10<sup>5</sup></code></li>\n",
    "\t<li>There will be at least one element in the data structure before calling <code>findMedian</code>.</li>\n",
    "\t<li>At most <code>5 * 10<sup>4</sup></code> calls will be made to <code>addNum</code> and <code>findMedian</code>.</li>\n",
    "</ul>\n",
    "\n",
    "<p>&nbsp;</p>\n",
    "<p><strong>Follow up:</strong></p>\n",
    "\n",
    "<ul>\n",
    "\t<li>If all integer numbers from the stream are in the range <code>[0, 100]</code>, how would you optimize your solution?</li>\n",
    "\t<li>If <code>99%</code> of all integer numbers from the stream are in the range <code>[0, 100]</code>, how would you optimize your solution?</li>\n",
    "</ul>\n",
    "</div>"
   ]
  },
  {
   "cell_type": "code",
   "execution_count": 144,
   "id": "ada61952",
   "metadata": {},
   "outputs": [],
   "source": [
    "class Node:\n",
    "    def __init__(self, val):\n",
    "        self.val = val\n",
    "        self.next = None\n",
    "    \n",
    "class MedianFinder:\n",
    "    def __init__(self):\n",
    "        self.head = None\n",
    "        self.length = 0\n",
    "        \n",
    "    def addNum(self, num: int):\n",
    "        if self.head:\n",
    "            tmp = Node(num)\n",
    "            if num <= self.head.val:\n",
    "                tmp.next = self.head\n",
    "                self.head = tmp\n",
    "            else:\n",
    "                curr = self.head\n",
    "                while curr.next:\n",
    "                    if num <= curr.next.val:\n",
    "                        tmp.next = curr.next\n",
    "                        curr.next = tmp\n",
    "                        break\n",
    "                    curr = curr.next\n",
    "                if not curr.next:\n",
    "                    curr.next = tmp\n",
    "        else:\n",
    "            self.head = Node(num)\n",
    "        self.length += 1\n",
    "        \n",
    "        \n",
    "    def findMedian(self) -> float:\n",
    "        curr = self.head\n",
    "        count = 0\n",
    "        while count < (self.length-1)//2:\n",
    "            curr = curr.next\n",
    "            count += 1\n",
    "        if self.length%2:\n",
    "            return curr.val\n",
    "        else:\n",
    "            return (curr.val+curr.next.val)/2"
   ]
  },
  {
   "cell_type": "markdown",
   "id": "6a91998e",
   "metadata": {},
   "source": [
    "<div class=\"alert alert-block alert-danger\"><b><font size=4>Time Limit Exceeded</font></b></div>"
   ]
  },
  {
   "cell_type": "markdown",
   "id": "0fb1efa2",
   "metadata": {},
   "source": [
    "### Implementation 1: Max-Min Heap"
   ]
  },
  {
   "cell_type": "markdown",
   "id": "f7e2499b",
   "metadata": {},
   "source": [
    "### Implementation 2: Red-Black Tree"
   ]
  },
  {
   "cell_type": "markdown",
   "id": "01f065d7",
   "metadata": {},
   "source": [
    "### Implementation 3: AVL Tree"
   ]
  },
  {
   "cell_type": "markdown",
   "id": "d4566d15",
   "metadata": {
    "heading_collapsed": true
   },
   "source": [
    "## 387. First Unique Character in a String"
   ]
  },
  {
   "cell_type": "markdown",
   "id": "89d6b01d",
   "metadata": {
    "hidden": true
   },
   "source": [
    "<div><p>Given a string <code>s</code>, <em>find the first non-repeating character in it and return its index</em>. If it does not exist, return <code>-1</code>.</p>\n",
    "\n",
    "<p>&nbsp;</p>\n",
    "<p><strong>Example 1:</strong></p>\n",
    "<pre><strong>Input:</strong> s = \"leetcode\"\n",
    "<strong>Output:</strong> 0\n",
    "</pre><p><strong>Example 2:</strong></p>\n",
    "<pre><strong>Input:</strong> s = \"loveleetcode\"\n",
    "<strong>Output:</strong> 2\n",
    "</pre><p><strong>Example 3:</strong></p>\n",
    "<pre><strong>Input:</strong> s = \"aabb\"\n",
    "<strong>Output:</strong> -1\n",
    "</pre>\n",
    "<p>&nbsp;</p>\n",
    "<p><strong>Constraints:</strong></p>\n",
    "\n",
    "<ul>\n",
    "\t<li><code>1 &lt;= s.length &lt;= 10<sup>5</sup></code></li>\n",
    "\t<li><code>s</code> consists of only lowercase English letters.</li>\n",
    "</ul>\n",
    "</div>"
   ]
  },
  {
   "cell_type": "code",
   "execution_count": 82,
   "id": "5c952c32",
   "metadata": {
    "hidden": true
   },
   "outputs": [],
   "source": [
    "def firstUniqChar(s: str) -> int:\n",
    "    res = [-1]*26\n",
    "    i = 0\n",
    "    while i < len(s):\n",
    "        index = ord(s[i])-97\n",
    "        if res[index]>=0:\n",
    "            res[index] = -2\n",
    "        elif res[index]==-1:\n",
    "            res[index] = i\n",
    "        i += 1 \n",
    "    x = len(s)\n",
    "    for i in range(26):\n",
    "        if res[i] < 0:\n",
    "            continue\n",
    "        elif res[i] < x:\n",
    "            x = res[i]\n",
    "    if x == len(s):\n",
    "        x = -1\n",
    "    return x"
   ]
  },
  {
   "cell_type": "markdown",
   "id": "d59667a0",
   "metadata": {
    "hidden": true
   },
   "source": [
    "<div class=\"alert alert-block alert-success\"><b><font size=4>Success</font></b><br><font color=\"b\">Runtime: <font size=4>188 ms</font>, faster than <font size=4>25.76%</font> of Python online submissions for First Unique Character in a String.<br>Memory Usage: <font size=4>14.4 MB</font>, less than <font size=4>44.33%</font> of Python online submissions for First Unique Character in a String.</font></div>"
   ]
  },
  {
   "cell_type": "markdown",
   "id": "3b4143a1",
   "metadata": {
    "heading_collapsed": true
   },
   "source": [
    "## 70. Climbing Stairs"
   ]
  },
  {
   "cell_type": "markdown",
   "id": "8e9937d0",
   "metadata": {
    "hidden": true
   },
   "source": [
    "<div><p>You are climbing a staircase. It takes <code>n</code> steps to reach the top.</p>\n",
    "\n",
    "<p>Each time you can either climb <code>1</code> or <code>2</code> steps. In how many distinct ways can you climb to the top?</p>\n",
    "\n",
    "<p>&nbsp;</p>\n",
    "<p><strong>Example 1:</strong></p>\n",
    "\n",
    "<pre><strong>Input:</strong> n = 2\n",
    "<strong>Output:</strong> 2\n",
    "<strong>Explanation:</strong> There are two ways to climb to the top.\n",
    "1. 1 step + 1 step\n",
    "2. 2 steps\n",
    "</pre>\n",
    "\n",
    "<p><strong>Example 2:</strong></p>\n",
    "\n",
    "<pre><strong>Input:</strong> n = 3\n",
    "<strong>Output:</strong> 3\n",
    "<strong>Explanation:</strong> There are three ways to climb to the top.\n",
    "1. 1 step + 1 step + 1 step\n",
    "2. 1 step + 2 steps\n",
    "3. 2 steps + 1 step\n",
    "</pre>\n",
    "\n",
    "<p>&nbsp;</p>\n",
    "<p><strong>Constraints:</strong></p>\n",
    "\n",
    "<ul>\n",
    "\t<li><code>1 &lt;= n &lt;= 45</code></li>\n",
    "</ul>\n",
    "</div>"
   ]
  },
  {
   "cell_type": "code",
   "execution_count": 4,
   "id": "cf5c6960",
   "metadata": {
    "hidden": true
   },
   "outputs": [],
   "source": [
    "def climbStairs(n: int) -> int:\n",
    "        if n==1:\n",
    "            return 1\n",
    "        elif n==2:\n",
    "            return 2\n",
    "        else:\n",
    "            res1 = 1\n",
    "            res2 = 2\n",
    "            res = 0\n",
    "            for i in range(n-2):\n",
    "                res = res1+res2\n",
    "                res1 = res2\n",
    "                res2 = res\n",
    "            return res"
   ]
  },
  {
   "cell_type": "markdown",
   "id": "512feae4",
   "metadata": {
    "hidden": true
   },
   "source": [
    "<div class=\"alert alert-block alert-success\"><b><font size=4>Success</font></b><br><font color=\"b\">Runtime: <font size=4>36 ms</font>, faster than <font size=4>36.59%</font> of Python online submissions for Climbing Stairs.<br>Memory Usage: <font size=4>14.2 MB</font>, less than <font size=4>42.86%</font> of Python online submissions for Climbing Stairs.</font></div>"
   ]
  },
  {
   "cell_type": "markdown",
   "id": "d0d3cbe1",
   "metadata": {},
   "source": [
    "## 1836. Delete Duplicates from an Unsortd Linked List"
   ]
  },
  {
   "cell_type": "code",
   "execution_count": null,
   "id": "0081e677",
   "metadata": {},
   "outputs": [],
   "source": [
    "class Node:\n",
    "    def __init__(self,None):\n",
    "        self.val = val\n",
    "        self.next = None\n",
    "    \n",
    "def deleteDuplicatesUnsorted(head):\n",
    "    duplicates = set()\n",
    "    pre = head\n",
    "    while head:\n",
    "        if head.val in duplicates:\n",
    "            pre.next = head.next\n",
    "        else:\n",
    "            duplicates.add(head.val)\n",
    "        head = head.next\n",
    "    return "
   ]
  },
  {
   "cell_type": "markdown",
   "id": "b5cf9638",
   "metadata": {
    "heading_collapsed": true
   },
   "source": [
    "## <div class=\"description__24sA\"><div class=\"css-101rr4k\"><div data-cy=\"question-title\" class=\"css-v3d350\"> <font color='green'>44. Wildcard Matching</font></div>"
   ]
  },
  {
   "cell_type": "markdown",
   "id": "8288ff25",
   "metadata": {
    "hidden": true
   },
   "source": [
    "\n",
    " <p>Given an input string (<code>s</code>) and a pattern (<code>p</code>), implement wildcard pattern matching with support for <code>'?'</code> and <code>'*'</code> where:</p>\n",
    "\n",
    "<ul>\n",
    "\t<li><code>'?'</code> Matches any single character.</li>\n",
    "\t<li><code>'*'</code> Matches any sequence of characters (including the empty sequence).</li>\n",
    "</ul>\n",
    "\n",
    "<p>The matching should cover the <strong>entire</strong> input string (not partial).</p>\n",
    "\n",
    "<p>&nbsp;</p>\n",
    "<p><strong>Example 1:</strong></p>\n",
    "\n",
    "<pre><strong>Input:</strong> s = \"aa\", p = \"a\"\n",
    "<strong>Output:</strong> false\n",
    "<strong>Explanation:</strong> \"a\" does not match the entire string \"aa\".\n",
    "</pre>\n",
    "\n",
    "<p><strong>Example 2:</strong></p>\n",
    "\n",
    "<pre><strong>Input:</strong> s = \"aa\", p = \"*\"\n",
    "<strong>Output:</strong> true\n",
    "<strong>Explanation:</strong>&nbsp;'*' matches any sequence.\n",
    "</pre>\n",
    "\n",
    "<p><strong>Example 3:</strong></p>\n",
    "\n",
    "<pre><strong>Input:</strong> s = \"cb\", p = \"?a\"\n",
    "<strong>Output:</strong> false\n",
    "<strong>Explanation:</strong>&nbsp;'?' matches 'c', but the second letter is 'a', which does not match 'b'.\n",
    "</pre>\n",
    "\n",
    "<p><strong>Example 4:</strong></p>\n",
    "\n",
    "<pre><strong>Input:</strong> s = \"adceb\", p = \"*a*b\"\n",
    "<strong>Output:</strong> true\n",
    "<strong>Explanation:</strong>&nbsp;The first '*' matches the empty sequence, while the second '*' matches the substring \"dce\".\n",
    "</pre>\n",
    "\n",
    "<p><strong>Example 5:</strong></p>\n",
    "\n",
    "<pre><strong>Input:</strong> s = \"acdcb\", p = \"a*c?b\"\n",
    "<strong>Output:</strong> false\n",
    "</pre>\n",
    "\n",
    "<p>&nbsp;</p>\n",
    "<p><strong>Constraints:</strong></p>\n",
    "\n",
    "<ul>\n",
    "\t<li><code>0 &lt;= s.length, p.length &lt;= 2000</code></li>\n",
    "\t<li><code>s</code> contains only lowercase English letters.</li>\n",
    "\t<li><code>p</code> contains only lowercase English letters, <code>'?'</code> or <code>'*'</code>.</li>\n",
    "</ul>"
   ]
  },
  {
   "cell_type": "markdown",
   "id": "6175d310",
   "metadata": {
    "hidden": true
   },
   "source": [
    "<div class=\"alert alert-block alert-success\"><b><font size=4>Success</font></b><br><font color=\"b\">Runtime: <font size=4>239 ms</font>, faster than <font size=4>75.91%</font> of Python online submissions for Wildcard Matchin.<br>Memory Usage: <font size=4>13.4 MB</font>, less than <font size=4>98.70%</font> of Python online submissions for Wildcard Matchin.</font></div>"
   ]
  },
  {
   "cell_type": "code",
   "execution_count": 114,
   "id": "85d6286e",
   "metadata": {
    "hidden": true
   },
   "outputs": [],
   "source": [
    "def isMatch(s: str, p: str) -> bool:\n",
    "        s = 'a'+s+'b'\n",
    "        p = 'a'+p+'b'\n",
    "        patterns = p.split('*')\n",
    "        \n",
    "        if len(patterns) == 1:\n",
    "            if len(s)!=len(p):\n",
    "                return False\n",
    "            for i in range(0,len(s)):\n",
    "                if (s[i] != p[i]) and p[i] != '?':\n",
    "                    return False\n",
    "            return True\n",
    "        \n",
    "        left = 0\n",
    "        for i in range(0,len(patterns[0])):\n",
    "            if patterns[0][i]!='?' and (s[left] != patterns[0][i]):\n",
    "                return False\n",
    "            left +=1\n",
    "\n",
    "        right = len(s)-1\n",
    "        for i in range(len(patterns[-1])-1,-1,-1):\n",
    "            if patterns[-1][i]!='?' and (s[right] != patterns[-1][i]):\n",
    "                return False\n",
    "            right -=1\n",
    "\n",
    "        if left > right+1:\n",
    "            return False\n",
    "\n",
    "        if len(patterns) == 2:\n",
    "            return True\n",
    "\n",
    "                \n",
    "        for pattern in patterns[1:-1]:\n",
    "            position = left\n",
    "            if pattern == \"\":\n",
    "                continue\n",
    "            i=0\n",
    "            while i < len(pattern):\n",
    "                if pattern[i]=='?' or s[left]==pattern[i]:\n",
    "                    i+=1\n",
    "                elif i>0:\n",
    "                    i = 0\n",
    "                    position += 1\n",
    "                    left = position\n",
    "                    continue\n",
    "                left+=1\n",
    "                if left > right+1:\n",
    "                    return False\n",
    "\n",
    "        return True"
   ]
  },
  {
   "cell_type": "markdown",
   "id": "40affba5",
   "metadata": {
    "heading_collapsed": true
   },
   "source": [
    "## <div class=\"description__24sA\"><div class=\"css-101rr4k\"><div data-cy=\"question-title\" class=\"css-v3d350\">72. Edit Distance</div>"
   ]
  },
  {
   "cell_type": "markdown",
   "id": "f4256767",
   "metadata": {
    "hidden": true
   },
   "source": [
    "<div class=\"content__u3I1 question-content__JfgR\"><div><p>Given two strings <code>word1</code> and <code>word2</code>, return <em>the minimum number of operations required to convert <code>word1</code> to <code>word2</code></em>.</p>\n",
    "\n",
    "<p>You have the following three operations permitted on a word:</p>\n",
    "\n",
    "<ul>\n",
    "\t<li>Insert a character</li>\n",
    "\t<li>Delete a character</li>\n",
    "\t<li>Replace a character</li>\n",
    "</ul>\n",
    "\n",
    "<p>&nbsp;</p>\n",
    "<p><strong>Example 1:</strong></p>\n",
    "\n",
    "<pre><strong>Input:</strong> word1 = \"horse\", word2 = \"ros\"\n",
    "<strong>Output:</strong> 3\n",
    "<strong>Explanation:</strong> \n",
    "horse -&gt; rorse (replace 'h' with 'r')\n",
    "rorse -&gt; rose (remove 'r')\n",
    "rose -&gt; ros (remove 'e')\n",
    "</pre>\n",
    "\n",
    "<p><strong>Example 2:</strong></p>\n",
    "\n",
    "<pre><strong>Input:</strong> word1 = \"intention\", word2 = \"execution\"\n",
    "<strong>Output:</strong> 5\n",
    "<strong>Explanation:</strong> \n",
    "intention -&gt; inention (remove 't')\n",
    "inention -&gt; enention (replace 'i' with 'e')\n",
    "enention -&gt; exention (replace 'n' with 'x')\n",
    "exention -&gt; exection (replace 'n' with 'c')\n",
    "exection -&gt; execution (insert 'u')\n",
    "</pre>\n",
    "\n",
    "<p>&nbsp;</p>\n",
    "<p><strong>Constraints:</strong></p>\n",
    "\n",
    "<ul>\n",
    "\t<li><code>0 &lt;= word1.length, word2.length &lt;= 500</code></li>\n",
    "\t<li><code>word1</code> and <code>word2</code> consist of lowercase English letters.</li>\n",
    "</ul>\n",
    "</div></div>"
   ]
  },
  {
   "cell_type": "code",
   "execution_count": 9,
   "id": "7b642aa9",
   "metadata": {
    "hidden": true
   },
   "outputs": [
    {
     "name": "stdout",
     "output_type": "stream",
     "text": [
      "skip\n"
     ]
    }
   ],
   "source": [
    "%%script echo skip        \n",
    "\n",
    "def minDistance(word1: str, word2: str) -> int:\n",
    "    global graph\n",
    "    graph = dict()\n",
    "    \n",
    "    # reorder the word to put the longer one first\n",
    "    if len(word1) < len(word2):\n",
    "        word1, word2 = word2, word1\n",
    "    if graph.get(word2):\n",
    "        if graph[word2].get(word1):\n",
    "            return graph[word2][word1]\n",
    "    else:\n",
    "        graph[word2] = dict()\n",
    "    \n",
    "    if len(word1) == len(word2):\n",
    "        if word1 == word2:\n",
    "            return 0\n",
    "        else:\n",
    "            result = len(word1) # upper bound: replace all\n",
    "            \n",
    "            for i in range(len(word1)):\n",
    "                temp = word1\n",
    "                # deletion\n",
    "                result = min(result, minDistance(word2, temp[:i]+temp[(i+1):]))\n",
    "                # replacement\n",
    "                if word1[i] != word2[i]:\n",
    "                    temp[i] = word2[i]\n",
    "                    result = min(result, minDistance(temp, word2))\n",
    "            \n",
    "    else: # len(word1) > len(word2):\n",
    "        # initialize with the minimum delete distance \n",
    "        result = len(word1)-len(word2)\n",
    "        \n",
    "        # generate all combination of deletion\n",
    "                \n",
    "    \n",
    "    graph[word2][word1] = result\n",
    "    if len(word1)==len(word2):\n",
    "        graph[word1][word2] = result\n",
    "    return result\n",
    "                    \n",
    "    "
   ]
  },
  {
   "cell_type": "markdown",
   "id": "0d275cce",
   "metadata": {
    "hidden": true
   },
   "source": [
    "Levenshtein Distance\n",
    "Damerau-Levenshtein"
   ]
  },
  {
   "cell_type": "code",
   "execution_count": 6,
   "id": "d58a7e52",
   "metadata": {
    "hidden": true
   },
   "outputs": [
    {
     "data": {
      "text/plain": [
       "'a'"
      ]
     },
     "execution_count": 6,
     "metadata": {},
     "output_type": "execute_result"
    }
   ],
   "source": [
    "'aaa'[2:]"
   ]
  },
  {
   "cell_type": "code",
   "execution_count": 13,
   "id": "db21def9",
   "metadata": {
    "hidden": true
   },
   "outputs": [
    {
     "name": "stdout",
     "output_type": "stream",
     "text": [
      "/Users/Jingxin\n"
     ]
    }
   ],
   "source": [
    "%cd"
   ]
  },
  {
   "cell_type": "markdown",
   "id": "328119c2",
   "metadata": {
    "heading_collapsed": true
   },
   "source": [
    "## <div data-cy=\"question-title\" class=\"css-v3d350\">121. Best Time to Buy and Sell Stock</div>"
   ]
  },
  {
   "cell_type": "markdown",
   "id": "ff2f3d29",
   "metadata": {
    "hidden": true
   },
   "source": [
    "<div class=\"content__u3I1 question-content__JfgR\"><div><p>You are given an array <code>prices</code> where <code>prices[i]</code> is the price of a given stock on the <code>i<sup>th</sup></code> day.</p>\n",
    "\n",
    "<p>You want to maximize your profit by choosing a <strong>single day</strong> to buy one stock and choosing a <strong>different day in the future</strong> to sell that stock.</p>\n",
    "\n",
    "<p>Return <em>the maximum profit you can achieve from this transaction</em>. If you cannot achieve any profit, return <code>0</code>.</p>\n",
    "\n",
    "<p>&nbsp;</p>\n",
    "<p><strong>Example 1:</strong></p>\n",
    "\n",
    "<pre><strong>Input:</strong> prices = [7,1,5,3,6,4]\n",
    "<strong>Output:</strong> 5\n",
    "<strong>Explanation:</strong> Buy on day 2 (price = 1) and sell on day 5 (price = 6), profit = 6-1 = 5.\n",
    "Note that buying on day 2 and selling on day 1 is not allowed because you must buy before you sell.\n",
    "</pre>\n",
    "\n",
    "<p><strong>Example 2:</strong></p>\n",
    "\n",
    "<pre><strong>Input:</strong> prices = [7,6,4,3,1]\n",
    "<strong>Output:</strong> 0\n",
    "<strong>Explanation:</strong> In this case, no transactions are done and the max profit = 0.\n",
    "</pre>\n",
    "\n",
    "<p>&nbsp;</p>\n",
    "<p><strong>Constraints:</strong></p>\n",
    "\n",
    "<ul>\n",
    "\t<li><code>1 &lt;= prices.length &lt;= 10<sup>5</sup></code></li>\n",
    "\t<li><code>0 &lt;= prices[i] &lt;= 10<sup>4</sup></code></li>\n",
    "</ul>\n",
    "</div></div>"
   ]
  },
  {
   "cell_type": "code",
   "execution_count": 16,
   "id": "30b04114",
   "metadata": {
    "hidden": true
   },
   "outputs": [],
   "source": [
    "def maxProfit(prices):\n",
    "    \"\"\"\n",
    "    :type prices: List[int]\n",
    "    :rtype: int\n",
    "    \"\"\"\n",
    "        "
   ]
  },
  {
   "cell_type": "markdown",
   "id": "eca066d8",
   "metadata": {
    "heading_collapsed": true
   },
   "source": [
    "## <div data-cy=\"question-title\" class=\"css-v3d350\">122. Best Time to Buy and Sell Stock II</div>"
   ]
  },
  {
   "cell_type": "markdown",
   "id": "2f8152d6",
   "metadata": {
    "hidden": true
   },
   "source": [
    "<div class=\"content__u3I1 question-content__JfgR\"><div><p>You are given an integer array <code>prices</code> where <code>prices[i]</code> is the price of a given stock on the <code>i<sup>th</sup></code> day.</p>\n",
    "\n",
    "<p>On each day, you may decide to buy and/or sell the stock. You can only hold <strong>at most one</strong> share of the stock at any time. However, you can buy it then immediately sell it on the <strong>same day</strong>.</p>\n",
    "\n",
    "<p>Find and return <em>the <strong>maximum</strong> profit you can achieve</em>.</p>\n",
    "\n",
    "<p>&nbsp;</p>\n",
    "<p><strong>Example 1:</strong></p>\n",
    "\n",
    "<pre><strong>Input:</strong> prices = [7,1,5,3,6,4]\n",
    "<strong>Output:</strong> 7\n",
    "<strong>Explanation:</strong> Buy on day 2 (price = 1) and sell on day 3 (price = 5), profit = 5-1 = 4.\n",
    "Then buy on day 4 (price = 3) and sell on day 5 (price = 6), profit = 6-3 = 3.\n",
    "Total profit is 4 + 3 = 7.\n",
    "</pre>\n",
    "\n",
    "<p><strong>Example 2:</strong></p>\n",
    "\n",
    "<pre><strong>Input:</strong> prices = [1,2,3,4,5]\n",
    "<strong>Output:</strong> 4\n",
    "<strong>Explanation:</strong> Buy on day 1 (price = 1) and sell on day 5 (price = 5), profit = 5-1 = 4.\n",
    "Total profit is 4.\n",
    "</pre>\n",
    "\n",
    "<p><strong>Example 3:</strong></p>\n",
    "\n",
    "<pre><strong>Input:</strong> prices = [7,6,4,3,1]\n",
    "<strong>Output:</strong> 0\n",
    "<strong>Explanation:</strong> There is no way to make a positive profit, so we never buy the stock to achieve the maximum profit of 0.\n",
    "</pre>\n",
    "\n",
    "<p>&nbsp;</p>\n",
    "<p><strong>Constraints:</strong></p>\n",
    "\n",
    "<ul>\n",
    "\t<li><code>1 &lt;= prices.length &lt;= 3 * 10<sup>4</sup></code></li>\n",
    "\t<li><code>0 &lt;= prices[i] &lt;= 10<sup>4</sup></code></li>\n",
    "</ul>\n",
    "</div></div>"
   ]
  },
  {
   "cell_type": "code",
   "execution_count": 18,
   "id": "3b808358",
   "metadata": {
    "hidden": true
   },
   "outputs": [],
   "source": [
    "def maxProfit(prices):\n",
    "    \"\"\"\n",
    "    :type prices: List[int]\n",
    "    :rtype: int\n",
    "    \"\"\"\n",
    "    n = len(prices)\n",
    "    ninf = float(\"-inf\")\n",
    "    res = [[ninf]*2]*n\n",
    "    res[0][0] = 0\n",
    "    res[0][1] = -prices[0]\n",
    "    \n",
    "    for i in range(1, n):\n",
    "        res[i][0] = max(res[i-1][0], res[i-1][1]+prices[i])\n",
    "        res[i][1] = max(res[i-1][0]-prices[i], res[i-1][1])\n",
    "    \n",
    "    return res[-1][0]"
   ]
  },
  {
   "cell_type": "markdown",
   "id": "b6e1c1c9",
   "metadata": {
    "hidden": true
   },
   "source": [
    "<div class=\"alert alert-block alert-success\"><b><font size=4>Success</font></b><br><font color=\"b\">Runtime: <font size=4>67 ms</font>, faster than <font size=4>17.97%</font> of Python online submissions for Best Time to Buy and Sell Stock II.<br>Memory Usage: <font size=4>14.4 MB</font>, less than <font size=4>68.30%</font> of Python online submissions for Best Time to Buy and Sell Stock II.</font></div>"
   ]
  },
  {
   "cell_type": "code",
   "execution_count": 44,
   "id": "7423533e",
   "metadata": {
    "hidden": true
   },
   "outputs": [],
   "source": [
    "def maxProfit(prices):\n",
    "    \"\"\"\n",
    "    :type prices: List[int]\n",
    "    :rtype: int\n",
    "    \"\"\"\n",
    "    n = len(prices)\n",
    "    p0 = 0\n",
    "    p1 = -prices[0]\n",
    "\n",
    "    for i in range(1, n):\n",
    "        p0 = max(p0, p1+prices[i])\n",
    "        p1 = max(p0-prices[i], p1)\n",
    "\n",
    "    return p0"
   ]
  },
  {
   "cell_type": "markdown",
   "id": "c5db8808",
   "metadata": {
    "hidden": true
   },
   "source": [
    "<div class=\"alert alert-block alert-success\"><b><font size=4>Success</font></b><br><font color=\"b\">Runtime: <font size=4>65 ms</font>, faster than <font size=4>19.47%</font> of Python online submissions for Best Time to Buy and Sell Stock II.<br>Memory Usage: <font size=4>14.4 MB</font>, less than <font size=4>89.27%</font> of Python online submissions for Best Time to Buy and Sell Stock II.</font></div>"
   ]
  },
  {
   "cell_type": "markdown",
   "id": "d1f3b0c9",
   "metadata": {
    "heading_collapsed": true
   },
   "source": [
    "## <div data-cy=\"question-title\" class=\"css-v3d350\">123. Best Time to Buy and Sell Stock III</div> "
   ]
  },
  {
   "cell_type": "markdown",
   "id": "add38272",
   "metadata": {
    "hidden": true
   },
   "source": [
    "<div class=\"content__u3I1 question-content__JfgR\"><div><p>You are given an array <code>prices</code> where <code>prices[i]</code> is the price of a given stock on the <code>i<sup>th</sup></code> day.</p>\n",
    "\n",
    "<p>Find the maximum profit you can achieve. You may complete <strong>at most two transactions</strong>.</p>\n",
    "\n",
    "<p><strong>Note:</strong> You may not engage in multiple transactions simultaneously (i.e., you must sell the stock before you buy again).</p>\n",
    "\n",
    "<p>&nbsp;</p>\n",
    "<p><strong>Example 1:</strong></p>\n",
    "\n",
    "<pre><strong>Input:</strong> prices = [3,3,5,0,0,3,1,4]\n",
    "<strong>Output:</strong> 6\n",
    "<strong>Explanation:</strong> Buy on day 4 (price = 0) and sell on day 6 (price = 3), profit = 3-0 = 3.\n",
    "Then buy on day 7 (price = 1) and sell on day 8 (price = 4), profit = 4-1 = 3.</pre>\n",
    "\n",
    "<p><strong>Example 2:</strong></p>\n",
    "\n",
    "<pre><strong>Input:</strong> prices = [1,2,3,4,5]\n",
    "<strong>Output:</strong> 4\n",
    "<strong>Explanation:</strong> Buy on day 1 (price = 1) and sell on day 5 (price = 5), profit = 5-1 = 4.\n",
    "Note that you cannot buy on day 1, buy on day 2 and sell them later, as you are engaging multiple transactions at the same time. You must sell before buying again.\n",
    "</pre>\n",
    "\n",
    "<p><strong>Example 3:</strong></p>\n",
    "\n",
    "<pre><strong>Input:</strong> prices = [7,6,4,3,1]\n",
    "<strong>Output:</strong> 0\n",
    "<strong>Explanation:</strong> In this case, no transaction is done, i.e. max profit = 0.\n",
    "</pre>\n",
    "\n",
    "<p><strong>Example 4:</strong></p>\n",
    "\n",
    "<pre><strong>Input:</strong> prices = [1]\n",
    "<strong>Output:</strong> 0\n",
    "</pre>\n",
    "\n",
    "<p>&nbsp;</p>\n",
    "<p><strong>Constraints:</strong></p>\n",
    "\n",
    "<ul>\n",
    "\t<li><code>1 &lt;= prices.length &lt;= 10<sup>5</sup></code></li>\n",
    "\t<li><code>0 &lt;= prices[i] &lt;= 10<sup>5</sup></code></li>\n",
    "</ul>\n",
    "</div></div>"
   ]
  },
  {
   "cell_type": "code",
   "execution_count": 50,
   "id": "7c0ce917",
   "metadata": {
    "hidden": true
   },
   "outputs": [],
   "source": [
    "def maxProfit(prices):\n",
    "    \"\"\"\n",
    "    :type prices: List[int]\n",
    "    :rtype: int\n",
    "    \"\"\"\n",
    "    p01 = float(\"-inf\")\n",
    "    p02 = float(\"-inf\")\n",
    "    p11 = -prices[0]\n",
    "    p12 = float(\"-inf\")\n",
    "    \n",
    "    for i in range(1, len(prices)):\n",
    "        p01 = max(p01, p11+prices[i])\n",
    "        p02 = max(p02, p12+prices[i])\n",
    "        p11 = max(p11, -prices[i])\n",
    "        p12 = max(p12, p01-prices[i])\n",
    "    \n",
    "    return max([0, p01, p02])"
   ]
  },
  {
   "cell_type": "markdown",
   "id": "46b48622",
   "metadata": {
    "hidden": true
   },
   "source": [
    "<div class=\"alert alert-block alert-success\"><b><font size=4>Success</font></b><br><font color=\"b\">Runtime: <font size=4>1396 ms</font>, faster than <font size=4>25.30%</font> of Python online submissions for Best Time to Buy and Sell Stock III.<br>Memory Usage: <font size=4>24.9 MB</font>, less than <font size=4>73.67%</font> of Python online submissions for Best Time to Buy and Sell Stock III.</font></div>"
   ]
  },
  {
   "cell_type": "markdown",
   "id": "e99b48f7",
   "metadata": {
    "heading_collapsed": true
   },
   "source": [
    "## <div data-cy=\"question-title\" class=\"css-v3d350\">188. Best Time to Buy and Sell Stock IV</div>"
   ]
  },
  {
   "cell_type": "markdown",
   "id": "23b3dae0",
   "metadata": {
    "hidden": true
   },
   "source": [
    "<div class=\"content__u3I1 question-content__JfgR\"><div><p>You are given an integer array <code>prices</code> where <code>prices[i]</code> is the price of a given stock on the <code>i<sup>th</sup></code> day, and an integer <code>k</code>.</p>\n",
    "\n",
    "<p>Find the maximum profit you can achieve. You may complete at most <code>k</code> transactions.</p>\n",
    "\n",
    "<p><strong>Note:</strong> You may not engage in multiple transactions simultaneously (i.e., you must sell the stock before you buy again).</p>\n",
    "\n",
    "<p>&nbsp;</p>\n",
    "<p><strong>Example 1:</strong></p>\n",
    "\n",
    "<pre><strong>Input:</strong> k = 2, prices = [2,4,1]\n",
    "<strong>Output:</strong> 2\n",
    "<strong>Explanation:</strong> Buy on day 1 (price = 2) and sell on day 2 (price = 4), profit = 4-2 = 2.\n",
    "</pre>\n",
    "\n",
    "<p><strong>Example 2:</strong></p>\n",
    "\n",
    "<pre><strong>Input:</strong> k = 2, prices = [3,2,6,5,0,3]\n",
    "<strong>Output:</strong> 7\n",
    "<strong>Explanation:</strong> Buy on day 2 (price = 2) and sell on day 3 (price = 6), profit = 6-2 = 4. Then buy on day 5 (price = 0) and sell on day 6 (price = 3), profit = 3-0 = 3.\n",
    "</pre>\n",
    "\n",
    "<p>&nbsp;</p>\n",
    "<p><strong>Constraints:</strong></p>\n",
    "\n",
    "<ul>\n",
    "\t<li><code>0 &lt;= k &lt;= 100</code></li>\n",
    "\t<li><code>0 &lt;= prices.length &lt;= 1000</code></li>\n",
    "\t<li><code>0 &lt;= prices[i] &lt;= 1000</code></li>\n",
    "</ul>\n",
    "</div></div>"
   ]
  },
  {
   "cell_type": "code",
   "execution_count": 77,
   "id": "4d5014d2",
   "metadata": {
    "hidden": true
   },
   "outputs": [],
   "source": [
    "def maxProfit(k, prices):\n",
    "    \"\"\"\n",
    "    :type prices: List[int]\n",
    "    :rtype: int\n",
    "    \"\"\"\n",
    "    if not prices or not k:\n",
    "        return 0\n",
    "    \n",
    "    p0 = [float(\"-inf\")]*k\n",
    "    p1 = [float(\"-inf\")]*k\n",
    "    p1[0] = -prices[0]\n",
    "\n",
    "    for price in prices:\n",
    "        temp = p1[0]\n",
    "        p0 = [max(p0[i], p1[i]+price) for i in range(k)]\n",
    "        p1 = [max(p1[i+1], p0[i]-price) for i in range(-1, k-1)]\n",
    "        p1[0] = max(temp, -price)\n",
    "\n",
    "    res = max(p0)\n",
    "\n",
    "    return max(res, 0)"
   ]
  },
  {
   "cell_type": "markdown",
   "id": "f219fbc8",
   "metadata": {
    "hidden": true
   },
   "source": [
    "<div class=\"alert alert-block alert-success\"><b><font size=4>Success</font></b><br><font color=\"b\">Runtime: <font size=4>107 ms</font>, faster than <font size=4>26.42%</font> of Python online submissions for Best Time to Buy and Sell Stock IV.<br>Memory Usage: <font size=4>13.6 MB</font>, less than <font size=4>54.52%</font> of Python online submissions for Best Time to Buy and Sell Stock IV.</font></div>"
   ]
  },
  {
   "cell_type": "code",
   "execution_count": null,
   "id": "8e39014c",
   "metadata": {
    "hidden": true
   },
   "outputs": [],
   "source": []
  }
 ],
 "metadata": {
  "kernelspec": {
   "display_name": "columbia",
   "language": "python",
   "name": "columbia"
  },
  "language_info": {
   "codemirror_mode": {
    "name": "ipython",
    "version": 3
   },
   "file_extension": ".py",
   "mimetype": "text/x-python",
   "name": "python",
   "nbconvert_exporter": "python",
   "pygments_lexer": "ipython3",
   "version": "3.8.11"
  },
  "latex_envs": {
   "LaTeX_envs_menu_present": true,
   "autoclose": true,
   "autocomplete": true,
   "bibliofile": "biblio.bib",
   "cite_by": "apalike",
   "current_citInitial": 1,
   "eqLabelWithNumbers": true,
   "eqNumInitial": 1,
   "hotkeys": {
    "equation": "Ctrl-E",
    "itemize": "Ctrl-I"
   },
   "labels_anchors": false,
   "latex_user_defs": false,
   "report_style_numbering": false,
   "user_envs_cfg": false
  },
  "toc-autonumbering": false,
  "toc-showcode": true,
  "toc-showmarkdowntxt": false,
  "toc-showtags": true
 },
 "nbformat": 4,
 "nbformat_minor": 5
}
