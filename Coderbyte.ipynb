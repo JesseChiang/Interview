{
 "cells": [
  {
   "cell_type": "markdown",
   "id": "a6dae5e1",
   "metadata": {},
   "source": [
    "### Bracket Combinations https://coderbyte.com/information/Bracket%20Combinations"
   ]
  },
  {
   "cell_type": "code",
   "execution_count": 3,
   "id": "a3c324df",
   "metadata": {},
   "outputs": [],
   "source": [
    "def BracketCombinations(num):\n",
    "    \n",
    "    # code goes here\n",
    "    l = [1,1]\n",
    "    for _ in range(num-1):\n",
    "    for i in range(1,len(l)):\n",
    "        l[i] = l[i]+l[i-1]\n",
    "    l.append(l[-1])\n",
    "    \n",
    "    return l[-1]"
   ]
  },
  {
   "cell_type": "markdown",
   "id": "8db2056a",
   "metadata": {},
   "source": [
    "$O(n^2)$"
   ]
  },
  {
   "cell_type": "code",
   "execution_count": null,
   "id": "9e49cbf6",
   "metadata": {},
   "outputs": [],
   "source": [
    "def BracketCombinations(num):\n",
    "    \n",
    "    # code goes here\n",
    "    i = 1\n",
    "    for n in range(num-1):\n",
    "        i = (4*n+2)*i//(n+2)\n",
    "    \n",
    "    return i"
   ]
  },
  {
   "cell_type": "markdown",
   "id": "e4f6a225",
   "metadata": {},
   "source": [
    "$O(n)$"
   ]
  },
  {
   "cell_type": "markdown",
   "id": "ebfd49e4",
   "metadata": {},
   "source": [
    "Catalan number"
   ]
  },
  {
   "cell_type": "markdown",
   "id": "8f428f51",
   "metadata": {},
   "source": [
    "<img src='https://upload.wikimedia.org/wikipedia/commons/f/f4/Catalan_number_4x4_grid_example.svg' ></img>"
   ]
  },
  {
   "cell_type": "markdown",
   "id": "0a23e185",
   "metadata": {},
   "source": [
    "### Min Window Substring https://coderbyte.com/information/Min%20Window%20Substring"
   ]
  },
  {
   "cell_type": "code",
   "execution_count": null,
   "id": "3a6e4ae5",
   "metadata": {},
   "outputs": [],
   "source": [
    "def MinWindowSubstring(strArr):\n",
    "\n",
    "  # code goes here\n",
    "  d = dict()\n",
    "  for char in strArr[1]:\n",
    "    d[char] = d.get(char,0)+1\n",
    "\n",
    "  n = len(strArr[1])\n",
    "  \n",
    "  j = -1\n",
    "  while n>0:\n",
    "    j += 1\n",
    "    if j == len(strArr[0]):\n",
    "      return -1\n",
    "    if (strArr[0][j] in d): \n",
    "      d[strArr[0][j]] -= 1\n",
    "      if d[strArr[0][j]]>=0:\n",
    "        n -= 1\n",
    "  end = j\n",
    "  start = 0\n",
    "  i = -1\n",
    "  while True:\n",
    "    i += 1\n",
    "    if strArr[0][i] in d:\n",
    "      if d[strArr[0][i]]==0:\n",
    "        break\n",
    "      else:\n",
    "        d[strArr[0][i]] += 1\n",
    "  if j-i < end-start:\n",
    "    start = i\n",
    "    end = j\n",
    "\n",
    "\n",
    "  while True:\n",
    "    j += 1\n",
    "    if j == len(strArr[0]):\n",
    "      return strArr[0][start:end+1]\n",
    "    while strArr[0][j] != strArr[0][i]:\n",
    "      if strArr[0][j] in d:\n",
    "        d[strArr[0][j]] -= 1\n",
    "      j+=1\n",
    "      if j == len(strArr[0]):\n",
    "        return strArr[0][start:end+1]\n",
    "    while True:\n",
    "      i += 1\n",
    "      if strArr[0][i] in d:\n",
    "        if d[strArr[0][i]]==0:\n",
    "          break\n",
    "        else:  \n",
    "          d[strArr[0][i]] += 1\n",
    "    if j-i < end-start:\n",
    "      start = i\n",
    "      end = j"
   ]
  },
  {
   "cell_type": "markdown",
   "id": "1d752d75",
   "metadata": {},
   "source": [
    "$O(n)$"
   ]
  },
  {
   "cell_type": "markdown",
   "id": "dd42659c",
   "metadata": {},
   "source": [
    "### Tree Constructor https://coderbyte.com/information/Tree%20Constructor"
   ]
  },
  {
   "cell_type": "code",
   "execution_count": null,
   "id": "f41e0e4a",
   "metadata": {},
   "outputs": [],
   "source": [
    "def TreeConstructor(strArr):\n",
    "\n",
    "  # code goes here\n",
    "  d = dict()\n",
    "  for pair in strArr:\n",
    "    child, parent = map(int, pair.lstrip('(').rstrip(')').split(','))\n",
    "    d[parent] = d.get(parent, [0,0])\n",
    "    if d[parent][1] == 2:\n",
    "      return False\n",
    "    d[parent][1] += 1\n",
    "    d[child] = d.get(child, [0,0])\n",
    "    if d[child][0] == 1:\n",
    "      return False\n",
    "    d[child][0] += 1\n",
    "\n",
    "  flag = False\n",
    "  for value in d.values():\n",
    "    if value[0] == 0:\n",
    "      if flag:\n",
    "        return False\n",
    "      else:\n",
    "        flag = True\n",
    "        \n",
    "  return flag"
   ]
  },
  {
   "cell_type": "markdown",
   "id": "0acdd04d",
   "metadata": {},
   "source": [
    "### Bracket Matcher https://coderbyte.com/information/Bracket%20Matcher"
   ]
  },
  {
   "cell_type": "code",
   "execution_count": null,
   "id": "a7cc75c4",
   "metadata": {},
   "outputs": [],
   "source": [
    "def BracketMatcher(strParam):\n",
    "    \n",
    "  # code goes here  \n",
    "  n = 0\n",
    "  for char in strParam:\n",
    "    if char == '(':\n",
    "      n += 1\n",
    "    if char == ')':\n",
    "      if n > 0:\n",
    "        n -= 1\n",
    "      else:\n",
    "        return 0\n",
    "    \n",
    "  if n == 0:\n",
    "    return 1\n",
    "  return 0"
   ]
  },
  {
   "cell_type": "markdown",
   "id": "53c281d7",
   "metadata": {},
   "source": [
    "$O(n)$"
   ]
  },
  {
   "cell_type": "markdown",
   "id": "0929e631",
   "metadata": {},
   "source": [
    "### Codeland Username Validation https://coderbyte.com/information/Codeland%20Username%20Validation"
   ]
  },
  {
   "cell_type": "code",
   "execution_count": null,
   "id": "14b04433",
   "metadata": {},
   "outputs": [],
   "source": [
    "def CodelandUsernameValidation(strParam):\n",
    "\n",
    "  # code goes here\n",
    "  if (len(strParam)<4) or (len(strParam)>25):\n",
    "    return False\n",
    "  if not (('a'<=strParam[0] and strParam[0]<='z') or ('A'<=strParam[0] and strParam[0]<='Z')):\n",
    "    return False\n",
    "  if strParam[-1] == '_':\n",
    "    return False\n",
    "  for i in range(1,len(strParam)-1):\n",
    "    if not (('a'<=strParam[i] and strParam[i]<='z') \\\n",
    "    or ('A'<=strParam[i] and strParam[i]<='Z') \\\n",
    "    or ('0'<=strParam[i] and strParam[i]<='9') \\\n",
    "    or strParam[i]=='_'):\n",
    "      return False \n",
    "  return True"
   ]
  },
  {
   "cell_type": "markdown",
   "id": "9939ca94",
   "metadata": {},
   "source": [
    "### Find Intersection https://coderbyte.com/information/Find%20Intersection"
   ]
  },
  {
   "cell_type": "code",
   "execution_count": 26,
   "id": "f008bdfd",
   "metadata": {},
   "outputs": [],
   "source": [
    "def FindIntersection(strArr):\n",
    "\n",
    "  seq1 = strArr[0].split(', ')\n",
    "  seq2 = strArr[1].split(', ')\n",
    "  i = 0\n",
    "  j = 0\n",
    "  res = []\n",
    "  flag = False\n",
    "  while True:\n",
    "    while int(seq1[i]) < int(seq2[j]):\n",
    "      i += 1\n",
    "      if i == len(seq1):\n",
    "        flag = True\n",
    "        break\n",
    "    if flag: break\n",
    "    while int(seq1[i]) == int(seq2[j]):\n",
    "      res.append(seq1[i])\n",
    "      i += 1\n",
    "      j += 1\n",
    "      if i == len(seq1) or j == len(seq2):\n",
    "        flag = True\n",
    "        break\n",
    "    if flag: break\n",
    "    while int(seq2[j]) < int(seq1[i]):\n",
    "      j += 1\n",
    "      if j == len(seq2):\n",
    "        flag = True\n",
    "        break\n",
    "    if flag: break\n",
    "    while int(seq1[i]) == int(seq2[j]):\n",
    "      res.append(seq1[i])\n",
    "      i += 1\n",
    "      j += 1\n",
    "      if i == len(seq1) or j == len(seq2):\n",
    "        flag = True\n",
    "        break\n",
    "    if flag: break\n",
    "\n",
    "  res = ','.join(res) if res else False\n",
    "  return res"
   ]
  },
  {
   "cell_type": "code",
   "execution_count": 32,
   "id": "ce6e164e",
   "metadata": {},
   "outputs": [
    {
     "data": {
      "text/plain": [
       "False"
      ]
     },
     "execution_count": 32,
     "metadata": {},
     "output_type": "execute_result"
    }
   ],
   "source": [
    "'1'.isalpha()"
   ]
  },
  {
   "cell_type": "code",
   "execution_count": 61,
   "id": "4e5ae733",
   "metadata": {},
   "outputs": [],
   "source": [
    "def Wildcard(s: str):\n",
    "    \n",
    "    pattern, string = s.split()\n",
    "    i = 0 \n",
    "    j = 0\n",
    "    while True:\n",
    "        if pattern[i] == '$':\n",
    "            if string[j].isdigit():\n",
    "                i += 1\n",
    "                j += 1\n",
    "            else:\n",
    "                return False\n",
    "        elif pattern[i] == '+':\n",
    "            if string[j].isalpha():\n",
    "                i += 1\n",
    "                j += 1\n",
    "            else:\n",
    "                return False\n",
    "        elif pattern[i] == '*':\n",
    "            char = string[j]\n",
    "            j += 1\n",
    "            count = 2\n",
    "            if (i+1<len(pattern)) and pattern[i+1]=='{':\n",
    "                start = i+2\n",
    "                i += 3\n",
    "                while pattern[i]!='}':\n",
    "                    i+=1\n",
    "                count = int(pattern[start:i])-1\n",
    "            while count>0:\n",
    "                if j == len(string):\n",
    "                    return False\n",
    "                if string[j] != char:\n",
    "                    return False\n",
    "                j+=1\n",
    "                count -= 1\n",
    "            i += 1\n",
    "        if i == len(pattern) or j == len(string):\n",
    "            break\n",
    "            \n",
    "    if i == len(pattern) and j == len(string):\n",
    "        return True\n",
    "    return False"
   ]
  },
  {
   "cell_type": "code",
   "execution_count": 62,
   "id": "ad91043d",
   "metadata": {},
   "outputs": [
    {
     "data": {
      "text/plain": [
       "True"
      ]
     },
     "execution_count": 62,
     "metadata": {},
     "output_type": "execute_result"
    }
   ],
   "source": [
    "s = \"++*{5} jtggggg\"\n",
    "Wildcard(s)"
   ]
  },
  {
   "cell_type": "code",
   "execution_count": null,
   "id": "ab1688dd",
   "metadata": {},
   "outputs": [],
   "source": []
  },
  {
   "cell_type": "code",
   "execution_count": null,
   "id": "bd160367",
   "metadata": {},
   "outputs": [],
   "source": []
  }
 ],
 "metadata": {
  "kernelspec": {
   "display_name": "Python [conda env:columbia] *",
   "language": "python",
   "name": "conda-env-columbia-py"
  },
  "language_info": {
   "codemirror_mode": {
    "name": "ipython",
    "version": 3
   },
   "file_extension": ".py",
   "mimetype": "text/x-python",
   "name": "python",
   "nbconvert_exporter": "python",
   "pygments_lexer": "ipython3",
   "version": "3.8.12"
  }
 },
 "nbformat": 4,
 "nbformat_minor": 5
}
